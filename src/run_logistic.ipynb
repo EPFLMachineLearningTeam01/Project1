{
 "cells": [
  {
   "cell_type": "code",
   "execution_count": 1,
   "metadata": {
    "collapsed": true
   },
   "outputs": [],
   "source": [
    "# Imports\n",
    "%load_ext autoreload\n",
    "%autoreload 2\n",
    "%matplotlib inline\n",
    "from matplotlib import pyplot as plt\n",
    "import csv\n",
    "import importlib\n",
    "from tqdm import tqdm\n",
    "from scripts import proj1_helpers, helpers\n",
    "from scripts import implementation, feature_processing, k_fold, model_linear, model_logistic\n",
    "import numpy as np"
   ]
  },
  {
   "cell_type": "code",
   "execution_count": 2,
   "metadata": {
    "collapsed": true
   },
   "outputs": [],
   "source": [
    "train_path = '../data/train.csv'\n",
    "test_path  = '../data/test.csv'"
   ]
  },
  {
   "cell_type": "code",
   "execution_count": 3,
   "metadata": {
    "collapsed": true,
    "scrolled": false
   },
   "outputs": [],
   "source": [
    "# loading data\n",
    "y, X, idx = proj1_helpers.load_csv_data(train_path)\n",
    "y_t, X_t, ids_t = proj1_helpers.load_csv_data(test_path)"
   ]
  },
  {
   "cell_type": "code",
   "execution_count": 4,
   "metadata": {},
   "outputs": [
    {
     "name": "stderr",
     "output_type": "stream",
     "text": [
      "100%|██████████| 5/5 [00:16<00:00,  2.96s/it]\n",
      "100%|██████████| 5/5 [00:37<00:00,  6.59s/it]\n"
     ]
    }
   ],
   "source": [
    "X_p, (x_mean, x_std) = feature_processing.process_X(X, 3)\n",
    "X_t_p, _ = feature_processing.process_X(X_t, 3, (x_mean, x_std))"
   ]
  },
  {
   "cell_type": "code",
   "execution_count": 5,
   "metadata": {
    "collapsed": true
   },
   "outputs": [],
   "source": [
    "#Logistic\n",
    "y_01 = helpers.y_to_01(np.array([y]).T)\n",
    "np.random.seed(1)\n",
    "w0 = np.zeros((X_p.shape[1], 1))"
   ]
  },
  {
   "cell_type": "code",
   "execution_count": null,
   "metadata": {},
   "outputs": [
    {
     "name": "stderr",
     "output_type": "stream",
     "text": [
      "100%|██████████| 500/500 [04:05<00:00,  2.27epoch/s, acc=-0.79, diff=797, grad=8.58e+03, loss=1.15e+05, w=42]       \n",
      " 52%|█████▏    | 262/500 [02:15<01:35,  2.48epoch/s, acc=-0.79, diff=1.54e+03, grad=9.56e+03, loss=1.15e+05, w=24.4]"
     ]
    }
   ],
   "source": [
    "model = implementation.reg_logistic_regression_newton_batch\n",
    "model_args = {'initial_w': w0, 'max_iters': 500, 'gamma': 1e-5, 'debug': False,\n",
    "              'batch_size': 50000}\n",
    "loss = model_linear.compute_accuracy_loss\n",
    "\n",
    "lambdas = np.logspace(-8, -3, 5)\n",
    "\n",
    "idx_min, rmse_all, lambdas = k_fold.cross_validation_select(X_p, y_01, model, loss, kw_model = model_args, seed = 1,\n",
    "                                                            k_fold = 3, lambdas = lambdas, do_plot = True, do_tqdm = False)"
   ]
  },
  {
   "cell_type": "code",
   "execution_count": null,
   "metadata": {},
   "outputs": [],
   "source": [
    "lambda_ = lambdas[idx_min]\n",
    "w, l = model(y_01, X_p, lambda_, **model_args)\n",
    "print(lambda_)"
   ]
  },
  {
   "cell_type": "code",
   "execution_count": 14,
   "metadata": {
    "collapsed": true
   },
   "outputs": [],
   "source": [
    "y_pred = proj1_helpers.predict_labels(w, X_t_p)"
   ]
  },
  {
   "cell_type": "code",
   "execution_count": 15,
   "metadata": {
    "collapsed": true
   },
   "outputs": [],
   "source": [
    "output_path = '../data/example_submission.csv'\n",
    "proj1_helpers.create_csv_submission(ids_t, y_pred, output_path)"
   ]
  },
  {
   "cell_type": "code",
   "execution_count": 16,
   "metadata": {
    "collapsed": true
   },
   "outputs": [],
   "source": [
    "np.mean(y_pred>0)\n",
    "tqdm.get_lock().locks = []"
   ]
  },
  {
   "cell_type": "code",
   "execution_count": null,
   "metadata": {
    "collapsed": true
   },
   "outputs": [],
   "source": []
  }
 ],
 "metadata": {
  "anaconda-cloud": {},
  "kernelspec": {
   "display_name": "Python 3",
   "language": "python",
   "name": "python3"
  },
  "language_info": {
   "codemirror_mode": {
    "name": "ipython",
    "version": 3
   },
   "file_extension": ".py",
   "mimetype": "text/x-python",
   "name": "python",
   "nbconvert_exporter": "python",
   "pygments_lexer": "ipython3",
   "version": "3.6.2"
  }
 },
 "nbformat": 4,
 "nbformat_minor": 1
}
