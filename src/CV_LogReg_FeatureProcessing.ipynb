{
 "cells": [
  {
   "cell_type": "code",
   "execution_count": 4,
   "metadata": {},
   "outputs": [
    {
     "name": "stdout",
     "output_type": "stream",
     "text": [
      "The autoreload extension is already loaded. To reload it, use:\n",
      "  %reload_ext autoreload\n"
     ]
    }
   ],
   "source": [
    "# Imports\n",
    "%load_ext autoreload\n",
    "%autoreload 2\n",
    "import csv\n",
    "import importlib\n",
    "from scripts import proj1_helpers, helpers\n",
    "from scripts import implementation, feature_processing, k_fold, model_logistic\n",
    "import numpy as np"
   ]
  },
  {
   "cell_type": "markdown",
   "metadata": {},
   "source": [
    "Configuration"
   ]
  },
  {
   "cell_type": "code",
   "execution_count": 5,
   "metadata": {
    "collapsed": true
   },
   "outputs": [],
   "source": [
    "train_path = '../data/train.csv'\n",
    "test_path  = '../data/test.csv'\n",
    "output_path = '../data/logreg_submission.csv'"
   ]
  },
  {
   "cell_type": "markdown",
   "metadata": {},
   "source": [
    "Loading data"
   ]
  },
  {
   "cell_type": "code",
   "execution_count": 6,
   "metadata": {
    "collapsed": true
   },
   "outputs": [],
   "source": [
    "# loading data\n",
    "y, X, idx = proj1_helpers.load_csv_data(train_path)\n",
    "y_t, X_t, ids_t = proj1_helpers.load_csv_data(test_path)"
   ]
  },
  {
   "cell_type": "markdown",
   "metadata": {},
   "source": [
    "Histograms of features"
   ]
  },
  {
   "cell_type": "markdown",
   "metadata": {},
   "source": [
    "Imputing missing values with mean values over feature"
   ]
  },
  {
   "cell_type": "code",
   "execution_count": 8,
   "metadata": {},
   "outputs": [
    {
     "name": "stderr",
     "output_type": "stream",
     "text": [
      "100%|██████████| 5/5 [00:08<00:00,  1.64s/it]\n",
      "100%|██████████| 5/5 [00:18<00:00,  3.61s/it]\n"
     ]
    }
   ],
   "source": [
    "X_p = feature_processing.process_X(X)\n",
    "X_t_p = feature_processing.process_X(X_t)"
   ]
  },
  {
   "cell_type": "markdown",
   "metadata": {},
   "source": [
    "Fitting least squares"
   ]
  },
  {
   "cell_type": "code",
   "execution_count": 13,
   "metadata": {},
   "outputs": [
    {
     "name": "stderr",
     "output_type": "stream",
     "text": [
      "  0%|          | 0/30 [00:00<?, ?it/s]\n",
      "  0%|          | 0/100 [00:00<?, ?epoch/s]\u001b[A\n",
      "  0%|          | 0/100 [00:00<?, ?epoch/s, grad=1.73e+05, loss=5.25e+05, w=7.71]\u001b[A\n",
      "  1%|          | 1/100 [00:00<00:20,  4.90epoch/s, grad=1.73e+05, loss=5.25e+05, w=7.71]\u001b[A\n",
      "  1%|          | 1/100 [00:00<00:20,  4.90epoch/s, grad=1.73e+05, loss=5.25e+05, w=7.71]\u001b[A\n",
      "  2%|▏         | 2/100 [00:00<00:20,  4.83epoch/s, grad=1.73e+05, loss=5.25e+05, w=7.71]\u001b[A\n",
      "  2%|▏         | 2/100 [00:00<00:20,  4.83epoch/s, grad=1.73e+05, loss=5.24e+05, w=7.71]\u001b[A\n",
      "  3%|▎         | 3/100 [00:00<00:19,  4.90epoch/s, grad=1.73e+05, loss=5.24e+05, w=7.71]\u001b[A\n",
      "  3%|▎         | 3/100 [00:00<00:19,  4.90epoch/s, grad=1.73e+05, loss=5.24e+05, w=7.71]\u001b[A\n",
      "  4%|▍         | 4/100 [00:00<00:19,  4.96epoch/s, grad=1.73e+05, loss=5.24e+05, w=7.71]\u001b[A\n",
      "  4%|▍         | 4/100 [00:01<00:19,  4.96epoch/s, grad=1.73e+05, loss=5.24e+05, w=7.71]\u001b[A\n",
      "  5%|▌         | 5/100 [00:01<00:18,  5.03epoch/s, grad=1.73e+05, loss=5.24e+05, w=7.71]\u001b[A\n",
      "  5%|▌         | 5/100 [00:01<00:18,  5.03epoch/s, grad=1.72e+05, loss=5.23e+05, w=7.71]\u001b[A\n",
      "  6%|▌         | 6/100 [00:01<00:18,  5.04epoch/s, grad=1.72e+05, loss=5.23e+05, w=7.71]\u001b[A\n",
      "  6%|▌         | 6/100 [00:01<00:18,  5.04epoch/s, grad=1.72e+05, loss=5.23e+05, w=7.71]\u001b[A\n",
      "  7%|▋         | 7/100 [00:01<00:18,  5.09epoch/s, grad=1.72e+05, loss=5.23e+05, w=7.71]\u001b[A\n",
      "  7%|▋         | 7/100 [00:01<00:18,  5.09epoch/s, grad=1.72e+05, loss=5.23e+05, w=7.7] \u001b[A\n",
      "  8%|▊         | 8/100 [00:01<00:17,  5.12epoch/s, grad=1.72e+05, loss=5.23e+05, w=7.7]\u001b[A\n",
      "  8%|▊         | 8/100 [00:01<00:17,  5.12epoch/s, grad=1.72e+05, loss=5.23e+05, w=7.7]\u001b[A\n",
      "  9%|▉         | 9/100 [00:01<00:18,  4.96epoch/s, grad=1.72e+05, loss=5.23e+05, w=7.7]\u001b[A\n",
      "  9%|▉         | 9/100 [00:02<00:18,  4.96epoch/s, grad=1.72e+05, loss=5.22e+05, w=7.7]\u001b[A\n",
      " 10%|█         | 10/100 [00:02<00:19,  4.62epoch/s, grad=1.72e+05, loss=5.22e+05, w=7.7]\u001b[A\n",
      " 10%|█         | 10/100 [00:02<00:19,  4.62epoch/s, grad=1.72e+05, loss=5.22e+05, w=7.7]\u001b[A\n",
      " 11%|█         | 11/100 [00:02<00:20,  4.36epoch/s, grad=1.72e+05, loss=5.22e+05, w=7.7]\u001b[A\n",
      " 11%|█         | 11/100 [00:02<00:20,  4.36epoch/s, grad=1.72e+05, loss=5.22e+05, w=7.7]\u001b[A\n",
      " 12%|█▏        | 12/100 [00:02<00:19,  4.51epoch/s, grad=1.72e+05, loss=5.22e+05, w=7.7]\u001b[A\n",
      " 12%|█▏        | 12/100 [00:02<00:19,  4.51epoch/s, grad=1.71e+05, loss=5.21e+05, w=7.7]\u001b[A\n",
      " 13%|█▎        | 13/100 [00:02<00:19,  4.47epoch/s, grad=1.71e+05, loss=5.21e+05, w=7.7]\u001b[A\n",
      " 13%|█▎        | 13/100 [00:02<00:19,  4.47epoch/s, grad=1.71e+05, loss=5.21e+05, w=7.7]\u001b[A\n",
      " 14%|█▍        | 14/100 [00:02<00:19,  4.34epoch/s, grad=1.71e+05, loss=5.21e+05, w=7.7]\u001b[A\n",
      " 14%|█▍        | 14/100 [00:03<00:19,  4.34epoch/s, grad=1.71e+05, loss=5.21e+05, w=7.7]\u001b[A\n",
      " 15%|█▌        | 15/100 [00:03<00:20,  4.16epoch/s, grad=1.71e+05, loss=5.21e+05, w=7.7]\u001b[A\n",
      " 15%|█▌        | 15/100 [00:03<00:20,  4.16epoch/s, grad=1.71e+05, loss=5.2e+05, w=7.7] \u001b[A\n",
      " 16%|█▌        | 16/100 [00:03<00:19,  4.36epoch/s, grad=1.71e+05, loss=5.2e+05, w=7.7]\u001b[A\n",
      " 16%|█▌        | 16/100 [00:03<00:19,  4.36epoch/s, grad=1.71e+05, loss=5.2e+05, w=7.7]\u001b[A\n",
      " 17%|█▋        | 17/100 [00:03<00:19,  4.31epoch/s, grad=1.71e+05, loss=5.2e+05, w=7.7]\u001b[A\n",
      " 17%|█▋        | 17/100 [00:03<00:19,  4.31epoch/s, grad=1.71e+05, loss=5.2e+05, w=7.7]\u001b[A\n",
      " 18%|█▊        | 18/100 [00:03<00:18,  4.32epoch/s, grad=1.71e+05, loss=5.2e+05, w=7.7]\u001b[A\n",
      " 18%|█▊        | 18/100 [00:04<00:18,  4.32epoch/s, grad=1.71e+05, loss=5.2e+05, w=7.7]\u001b[A\n",
      " 19%|█▉        | 19/100 [00:04<00:18,  4.30epoch/s, grad=1.71e+05, loss=5.2e+05, w=7.7]\u001b[A\n",
      " 19%|█▉        | 19/100 [00:04<00:18,  4.30epoch/s, grad=1.7e+05, loss=5.19e+05, w=7.7]\u001b[A\n",
      " 20%|██        | 20/100 [00:04<00:17,  4.47epoch/s, grad=1.7e+05, loss=5.19e+05, w=7.7]\u001b[A\n",
      " 20%|██        | 20/100 [00:04<00:17,  4.47epoch/s, grad=1.7e+05, loss=5.19e+05, w=7.7]\u001b[A\n",
      " 21%|██        | 21/100 [00:04<00:16,  4.66epoch/s, grad=1.7e+05, loss=5.19e+05, w=7.7]\u001b[A\n",
      " 21%|██        | 21/100 [00:04<00:16,  4.66epoch/s, grad=1.7e+05, loss=5.19e+05, w=7.7]\u001b[A\n",
      " 22%|██▏       | 22/100 [00:04<00:16,  4.64epoch/s, grad=1.7e+05, loss=5.19e+05, w=7.7]\u001b[A\n",
      " 22%|██▏       | 22/100 [00:05<00:16,  4.64epoch/s, grad=1.7e+05, loss=5.18e+05, w=7.7]\u001b[A\n",
      " 23%|██▎       | 23/100 [00:05<00:17,  4.49epoch/s, grad=1.7e+05, loss=5.18e+05, w=7.7]\u001b[A\n",
      " 23%|██▎       | 23/100 [00:05<00:17,  4.49epoch/s, grad=1.7e+05, loss=5.18e+05, w=7.69]\u001b[A\n",
      " 24%|██▍       | 24/100 [00:05<00:16,  4.55epoch/s, grad=1.7e+05, loss=5.18e+05, w=7.69]\u001b[A\n",
      " 24%|██▍       | 24/100 [00:05<00:16,  4.55epoch/s, grad=1.7e+05, loss=5.18e+05, w=7.69]\u001b[A\n",
      " 25%|██▌       | 25/100 [00:05<00:15,  4.73epoch/s, grad=1.7e+05, loss=5.18e+05, w=7.69]\u001b[A\n",
      " 25%|██▌       | 25/100 [00:05<00:15,  4.73epoch/s, grad=1.69e+05, loss=5.18e+05, w=7.69]\u001b[A\n",
      " 26%|██▌       | 26/100 [00:05<00:15,  4.73epoch/s, grad=1.69e+05, loss=5.18e+05, w=7.69]\u001b[A\n",
      " 26%|██▌       | 26/100 [00:05<00:15,  4.73epoch/s, grad=1.69e+05, loss=5.17e+05, w=7.69]\u001b[A\n",
      " 27%|██▋       | 27/100 [00:05<00:15,  4.86epoch/s, grad=1.69e+05, loss=5.17e+05, w=7.69]\u001b[A\n",
      " 27%|██▋       | 27/100 [00:06<00:15,  4.86epoch/s, grad=1.69e+05, loss=5.17e+05, w=7.69]\u001b[A\n",
      " 28%|██▊       | 28/100 [00:06<00:14,  4.85epoch/s, grad=1.69e+05, loss=5.17e+05, w=7.69]\u001b[A\n",
      " 28%|██▊       | 28/100 [00:06<00:14,  4.85epoch/s, grad=1.69e+05, loss=5.17e+05, w=7.69]\u001b[A\n",
      " 29%|██▉       | 29/100 [00:06<00:16,  4.38epoch/s, grad=1.69e+05, loss=5.17e+05, w=7.69]\u001b[A\n",
      " 29%|██▉       | 29/100 [00:06<00:16,  4.38epoch/s, grad=1.69e+05, loss=5.16e+05, w=7.69]\u001b[A\n",
      " 30%|███       | 30/100 [00:06<00:16,  4.34epoch/s, grad=1.69e+05, loss=5.16e+05, w=7.69]\u001b[A\n",
      " 30%|███       | 30/100 [00:06<00:16,  4.34epoch/s, grad=1.69e+05, loss=5.16e+05, w=7.69]\u001b[A\n",
      " 31%|███       | 31/100 [00:06<00:15,  4.56epoch/s, grad=1.69e+05, loss=5.16e+05, w=7.69]\u001b[A\n",
      " 31%|███       | 31/100 [00:06<00:15,  4.56epoch/s, grad=1.69e+05, loss=5.16e+05, w=7.69]\u001b[A\n",
      " 32%|███▏      | 32/100 [00:06<00:14,  4.78epoch/s, grad=1.69e+05, loss=5.16e+05, w=7.69]\u001b[A\n",
      " 32%|███▏      | 32/100 [00:07<00:14,  4.78epoch/s, grad=1.68e+05, loss=5.16e+05, w=7.69]\u001b[A\n",
      " 33%|███▎      | 33/100 [00:07<00:13,  4.92epoch/s, grad=1.68e+05, loss=5.16e+05, w=7.69]\u001b[A\n",
      " 33%|███▎      | 33/100 [00:07<00:13,  4.92epoch/s, grad=1.68e+05, loss=5.15e+05, w=7.69]\u001b[A\n",
      " 34%|███▍      | 34/100 [00:07<00:13,  5.02epoch/s, grad=1.68e+05, loss=5.15e+05, w=7.69]\u001b[A\n",
      " 34%|███▍      | 34/100 [00:07<00:13,  5.02epoch/s, grad=1.68e+05, loss=5.15e+05, w=7.69]\u001b[A\n",
      " 35%|███▌      | 35/100 [00:07<00:13,  4.97epoch/s, grad=1.68e+05, loss=5.15e+05, w=7.69]\u001b[A\n",
      " 35%|███▌      | 35/100 [00:07<00:13,  4.97epoch/s, grad=1.68e+05, loss=5.15e+05, w=7.69]\u001b[A\n",
      " 36%|███▌      | 36/100 [00:07<00:13,  4.70epoch/s, grad=1.68e+05, loss=5.15e+05, w=7.69]\u001b[A\n",
      " 36%|███▌      | 36/100 [00:07<00:13,  4.70epoch/s, grad=1.68e+05, loss=5.14e+05, w=7.69]\u001b[A\n",
      " 37%|███▋      | 37/100 [00:08<00:14,  4.45epoch/s, grad=1.68e+05, loss=5.14e+05, w=7.69]\u001b[A\n",
      " 37%|███▋      | 37/100 [00:08<00:14,  4.45epoch/s, grad=1.68e+05, loss=5.14e+05, w=7.69]\u001b[A\n",
      " 38%|███▊      | 38/100 [00:08<00:13,  4.53epoch/s, grad=1.68e+05, loss=5.14e+05, w=7.69]\u001b[A\n",
      " 38%|███▊      | 38/100 [00:08<00:13,  4.53epoch/s, grad=1.68e+05, loss=5.14e+05, w=7.69]\u001b[A\n",
      " 39%|███▉      | 39/100 [00:08<00:12,  4.74epoch/s, grad=1.68e+05, loss=5.14e+05, w=7.69]\u001b[A\n",
      " 39%|███▉      | 39/100 [00:08<00:12,  4.74epoch/s, grad=1.68e+05, loss=5.14e+05, w=7.69]\u001b[A\n",
      " 40%|████      | 40/100 [00:08<00:12,  4.86epoch/s, grad=1.68e+05, loss=5.14e+05, w=7.69]\u001b[A\n",
      " 40%|████      | 40/100 [00:08<00:12,  4.86epoch/s, grad=1.67e+05, loss=5.13e+05, w=7.68]\u001b[A\n",
      " 41%|████      | 41/100 [00:08<00:11,  4.98epoch/s, grad=1.67e+05, loss=5.13e+05, w=7.68]\u001b[A\n",
      " 41%|████      | 41/100 [00:08<00:11,  4.98epoch/s, grad=1.67e+05, loss=5.13e+05, w=7.68]\u001b[A\n",
      " 42%|████▏     | 42/100 [00:08<00:11,  5.08epoch/s, grad=1.67e+05, loss=5.13e+05, w=7.68]\u001b[A\n",
      " 42%|████▏     | 42/100 [00:09<00:11,  5.08epoch/s, grad=1.67e+05, loss=5.13e+05, w=7.68]\u001b[A\n",
      " 43%|████▎     | 43/100 [00:09<00:11,  5.15epoch/s, grad=1.67e+05, loss=5.13e+05, w=7.68]\u001b[A\n",
      " 43%|████▎     | 43/100 [00:09<00:11,  5.15epoch/s, grad=1.67e+05, loss=5.12e+05, w=7.68]\u001b[A\n",
      " 44%|████▍     | 44/100 [00:09<00:11,  4.86epoch/s, grad=1.67e+05, loss=5.12e+05, w=7.68]\u001b[A\n"
     ]
    },
    {
     "name": "stderr",
     "output_type": "stream",
     "text": [
      " 44%|████▍     | 44/100 [00:09<00:11,  4.86epoch/s, grad=1.67e+05, loss=5.12e+05, w=7.68]\u001b[A\n",
      " 45%|████▌     | 45/100 [00:09<00:11,  4.68epoch/s, grad=1.67e+05, loss=5.12e+05, w=7.68]\u001b[A\n",
      " 45%|████▌     | 45/100 [00:09<00:11,  4.68epoch/s, grad=1.67e+05, loss=5.12e+05, w=7.68]\u001b[A\n",
      " 46%|████▌     | 46/100 [00:09<00:11,  4.70epoch/s, grad=1.67e+05, loss=5.12e+05, w=7.68]\u001b[A\n",
      " 46%|████▌     | 46/100 [00:10<00:11,  4.70epoch/s, grad=1.67e+05, loss=5.12e+05, w=7.68]\u001b[A\n",
      " 47%|████▋     | 47/100 [00:10<00:11,  4.74epoch/s, grad=1.67e+05, loss=5.12e+05, w=7.68]\u001b[A\n",
      " 47%|████▋     | 47/100 [00:10<00:11,  4.74epoch/s, grad=1.66e+05, loss=5.11e+05, w=7.68]\u001b[A\n",
      " 48%|████▊     | 48/100 [00:10<00:11,  4.64epoch/s, grad=1.66e+05, loss=5.11e+05, w=7.68]\u001b[A\n",
      " 48%|████▊     | 48/100 [00:10<00:11,  4.64epoch/s, grad=1.66e+05, loss=5.11e+05, w=7.68]\u001b[A\n",
      " 49%|████▉     | 49/100 [00:10<00:10,  4.81epoch/s, grad=1.66e+05, loss=5.11e+05, w=7.68]\u001b[A\n",
      " 49%|████▉     | 49/100 [00:10<00:10,  4.81epoch/s, grad=1.66e+05, loss=5.11e+05, w=7.68]\u001b[A\n",
      " 50%|█████     | 50/100 [00:10<00:10,  4.71epoch/s, grad=1.66e+05, loss=5.11e+05, w=7.68]\u001b[A\n",
      " 50%|█████     | 50/100 [00:10<00:10,  4.71epoch/s, grad=1.66e+05, loss=5.11e+05, w=7.68]\u001b[A\n",
      " 51%|█████     | 51/100 [00:10<00:10,  4.48epoch/s, grad=1.66e+05, loss=5.11e+05, w=7.68]\u001b[A\n",
      " 51%|█████     | 51/100 [00:11<00:10,  4.48epoch/s, grad=1.66e+05, loss=5.1e+05, w=7.68] \u001b[A\n",
      " 52%|█████▏    | 52/100 [00:11<00:10,  4.45epoch/s, grad=1.66e+05, loss=5.1e+05, w=7.68]\u001b[A\n",
      " 52%|█████▏    | 52/100 [00:11<00:10,  4.45epoch/s, grad=1.66e+05, loss=5.1e+05, w=7.68]\u001b[A\n",
      " 53%|█████▎    | 53/100 [00:11<00:10,  4.67epoch/s, grad=1.66e+05, loss=5.1e+05, w=7.68]\u001b[A\n",
      " 53%|█████▎    | 53/100 [00:11<00:10,  4.67epoch/s, grad=1.66e+05, loss=5.1e+05, w=7.68]\u001b[A\n",
      " 54%|█████▍    | 54/100 [00:11<00:09,  4.84epoch/s, grad=1.66e+05, loss=5.1e+05, w=7.68]\u001b[A\n",
      " 54%|█████▍    | 54/100 [00:11<00:09,  4.84epoch/s, grad=1.65e+05, loss=5.09e+05, w=7.68]\u001b[A\n",
      " 55%|█████▌    | 55/100 [00:11<00:09,  4.98epoch/s, grad=1.65e+05, loss=5.09e+05, w=7.68]\u001b[A\n",
      " 55%|█████▌    | 55/100 [00:11<00:09,  4.98epoch/s, grad=1.65e+05, loss=5.09e+05, w=7.68]\u001b[A\n",
      " 56%|█████▌    | 56/100 [00:11<00:08,  4.98epoch/s, grad=1.65e+05, loss=5.09e+05, w=7.68]\u001b[A\n",
      " 56%|█████▌    | 56/100 [00:12<00:08,  4.98epoch/s, grad=1.65e+05, loss=5.09e+05, w=7.68]\u001b[A\n",
      " 57%|█████▋    | 57/100 [00:12<00:08,  5.02epoch/s, grad=1.65e+05, loss=5.09e+05, w=7.68]\u001b[A\n",
      " 57%|█████▋    | 57/100 [00:12<00:08,  5.02epoch/s, grad=1.65e+05, loss=5.09e+05, w=7.67]\u001b[A\n",
      " 58%|█████▊    | 58/100 [00:12<00:08,  5.15epoch/s, grad=1.65e+05, loss=5.09e+05, w=7.67]\u001b[A\n",
      " 58%|█████▊    | 58/100 [00:12<00:08,  5.15epoch/s, grad=1.65e+05, loss=5.08e+05, w=7.67]\u001b[A\n",
      " 59%|█████▉    | 59/100 [00:12<00:07,  5.19epoch/s, grad=1.65e+05, loss=5.08e+05, w=7.67]\u001b[A\n",
      " 59%|█████▉    | 59/100 [00:12<00:07,  5.19epoch/s, grad=1.65e+05, loss=5.08e+05, w=7.67]\u001b[A\n",
      " 60%|██████    | 60/100 [00:12<00:08,  4.99epoch/s, grad=1.65e+05, loss=5.08e+05, w=7.67]\u001b[A\n",
      " 60%|██████    | 60/100 [00:12<00:08,  4.99epoch/s, grad=1.65e+05, loss=5.08e+05, w=7.67]\u001b[A\n",
      " 61%|██████    | 61/100 [00:12<00:08,  4.75epoch/s, grad=1.65e+05, loss=5.08e+05, w=7.67]\u001b[A\n",
      " 61%|██████    | 61/100 [00:13<00:08,  4.75epoch/s, grad=1.65e+05, loss=5.08e+05, w=7.67]\u001b[A\n",
      " 62%|██████▏   | 62/100 [00:13<00:08,  4.49epoch/s, grad=1.65e+05, loss=5.08e+05, w=7.67]\u001b[A\n",
      " 62%|██████▏   | 62/100 [00:13<00:08,  4.49epoch/s, grad=1.64e+05, loss=5.07e+05, w=7.67]\u001b[A\n",
      " 63%|██████▎   | 63/100 [00:13<00:08,  4.53epoch/s, grad=1.64e+05, loss=5.07e+05, w=7.67]\u001b[A\n",
      " 63%|██████▎   | 63/100 [00:13<00:08,  4.53epoch/s, grad=1.64e+05, loss=5.07e+05, w=7.67]\u001b[A\n",
      " 64%|██████▍   | 64/100 [00:13<00:08,  4.46epoch/s, grad=1.64e+05, loss=5.07e+05, w=7.67]\u001b[A\n",
      " 64%|██████▍   | 64/100 [00:13<00:08,  4.46epoch/s, grad=1.64e+05, loss=5.07e+05, w=7.67]\u001b[A\n",
      " 65%|██████▌   | 65/100 [00:13<00:08,  4.37epoch/s, grad=1.64e+05, loss=5.07e+05, w=7.67]\u001b[A\n",
      " 65%|██████▌   | 65/100 [00:14<00:08,  4.37epoch/s, grad=1.64e+05, loss=5.06e+05, w=7.67]\u001b[A\n",
      " 66%|██████▌   | 66/100 [00:14<00:07,  4.30epoch/s, grad=1.64e+05, loss=5.06e+05, w=7.67]\u001b[A\n",
      " 66%|██████▌   | 66/100 [00:14<00:07,  4.30epoch/s, grad=1.64e+05, loss=5.06e+05, w=7.67]\u001b[A\n",
      " 67%|██████▋   | 67/100 [00:14<00:07,  4.42epoch/s, grad=1.64e+05, loss=5.06e+05, w=7.67]\u001b[A\n",
      " 67%|██████▋   | 67/100 [00:14<00:07,  4.42epoch/s, grad=1.64e+05, loss=5.06e+05, w=7.67]\u001b[A\n",
      " 68%|██████▊   | 68/100 [00:14<00:07,  4.55epoch/s, grad=1.64e+05, loss=5.06e+05, w=7.67]\u001b[A\n",
      " 68%|██████▊   | 68/100 [00:14<00:07,  4.55epoch/s, grad=1.64e+05, loss=5.06e+05, w=7.67]\u001b[A\n",
      " 69%|██████▉   | 69/100 [00:14<00:06,  4.46epoch/s, grad=1.64e+05, loss=5.06e+05, w=7.67]\u001b[A\n",
      " 69%|██████▉   | 69/100 [00:15<00:06,  4.46epoch/s, grad=1.64e+05, loss=5.05e+05, w=7.67]\u001b[A\n",
      " 70%|███████   | 70/100 [00:15<00:06,  4.33epoch/s, grad=1.64e+05, loss=5.05e+05, w=7.67]\u001b[A\n",
      " 70%|███████   | 70/100 [00:15<00:06,  4.33epoch/s, grad=1.63e+05, loss=5.05e+05, w=7.67]\u001b[A\n",
      " 71%|███████   | 71/100 [00:15<00:06,  4.44epoch/s, grad=1.63e+05, loss=5.05e+05, w=7.67]\u001b[A\n",
      " 71%|███████   | 71/100 [00:15<00:06,  4.44epoch/s, grad=1.63e+05, loss=5.05e+05, w=7.67]\u001b[A\n",
      " 72%|███████▏  | 72/100 [00:15<00:06,  4.47epoch/s, grad=1.63e+05, loss=5.05e+05, w=7.67]\u001b[A\n",
      " 72%|███████▏  | 72/100 [00:15<00:06,  4.47epoch/s, grad=1.63e+05, loss=5.05e+05, w=7.67]\u001b[A\n",
      " 73%|███████▎  | 73/100 [00:15<00:05,  4.57epoch/s, grad=1.63e+05, loss=5.05e+05, w=7.67]\u001b[A\n",
      " 73%|███████▎  | 73/100 [00:15<00:05,  4.57epoch/s, grad=1.63e+05, loss=5.04e+05, w=7.67]\u001b[A\n",
      " 74%|███████▍  | 74/100 [00:15<00:05,  4.80epoch/s, grad=1.63e+05, loss=5.04e+05, w=7.67]\u001b[A\n",
      " 74%|███████▍  | 74/100 [00:16<00:05,  4.80epoch/s, grad=1.63e+05, loss=5.04e+05, w=7.66]\u001b[A\n",
      " 75%|███████▌  | 75/100 [00:16<00:05,  4.72epoch/s, grad=1.63e+05, loss=5.04e+05, w=7.66]\u001b[A\n",
      " 75%|███████▌  | 75/100 [00:16<00:05,  4.72epoch/s, grad=1.63e+05, loss=5.04e+05, w=7.66]\u001b[A\n",
      " 76%|███████▌  | 76/100 [00:16<00:05,  4.23epoch/s, grad=1.63e+05, loss=5.04e+05, w=7.66]\u001b[A\n",
      " 76%|███████▌  | 76/100 [00:16<00:05,  4.23epoch/s, grad=1.63e+05, loss=5.03e+05, w=7.66]\u001b[A\n",
      " 77%|███████▋  | 77/100 [00:16<00:05,  4.09epoch/s, grad=1.63e+05, loss=5.03e+05, w=7.66]\u001b[A\n",
      " 77%|███████▋  | 77/100 [00:16<00:05,  4.09epoch/s, grad=1.63e+05, loss=5.03e+05, w=7.66]\u001b[A\n",
      " 78%|███████▊  | 78/100 [00:16<00:05,  4.15epoch/s, grad=1.63e+05, loss=5.03e+05, w=7.66]\u001b[A\n",
      " 78%|███████▊  | 78/100 [00:17<00:05,  4.15epoch/s, grad=1.62e+05, loss=5.03e+05, w=7.66]\u001b[A\n",
      " 79%|███████▉  | 79/100 [00:17<00:04,  4.20epoch/s, grad=1.62e+05, loss=5.03e+05, w=7.66]\u001b[A\n",
      " 79%|███████▉  | 79/100 [00:17<00:04,  4.20epoch/s, grad=1.62e+05, loss=5.03e+05, w=7.66]\u001b[A\n",
      " 80%|████████  | 80/100 [00:17<00:04,  4.29epoch/s, grad=1.62e+05, loss=5.03e+05, w=7.66]\u001b[A\n",
      " 80%|████████  | 80/100 [00:17<00:04,  4.29epoch/s, grad=1.62e+05, loss=5.02e+05, w=7.66]\u001b[A\n",
      " 81%|████████  | 81/100 [00:17<00:04,  4.26epoch/s, grad=1.62e+05, loss=5.02e+05, w=7.66]\u001b[A\n",
      " 81%|████████  | 81/100 [00:17<00:04,  4.26epoch/s, grad=1.62e+05, loss=5.02e+05, w=7.66]\u001b[A\n",
      " 82%|████████▏ | 82/100 [00:17<00:04,  4.29epoch/s, grad=1.62e+05, loss=5.02e+05, w=7.66]\u001b[A\n",
      " 82%|████████▏ | 82/100 [00:18<00:04,  4.29epoch/s, grad=1.62e+05, loss=5.02e+05, w=7.66]\u001b[A\n",
      " 83%|████████▎ | 83/100 [00:18<00:04,  4.05epoch/s, grad=1.62e+05, loss=5.02e+05, w=7.66]\u001b[A\n",
      " 83%|████████▎ | 83/100 [00:18<00:04,  4.05epoch/s, grad=1.62e+05, loss=5.02e+05, w=7.66]\u001b[A\n",
      " 84%|████████▍ | 84/100 [00:18<00:04,  3.94epoch/s, grad=1.62e+05, loss=5.02e+05, w=7.66]\u001b[A\n",
      " 84%|████████▍ | 84/100 [00:18<00:04,  3.94epoch/s, grad=1.62e+05, loss=5.01e+05, w=7.66]\u001b[A\n",
      " 85%|████████▌ | 85/100 [00:18<00:03,  3.84epoch/s, grad=1.62e+05, loss=5.01e+05, w=7.66]\u001b[A\n",
      " 85%|████████▌ | 85/100 [00:18<00:03,  3.84epoch/s, grad=1.62e+05, loss=5.01e+05, w=7.66]\u001b[A\n",
      " 86%|████████▌ | 86/100 [00:18<00:03,  3.88epoch/s, grad=1.62e+05, loss=5.01e+05, w=7.66]\u001b[A\n",
      " 86%|████████▌ | 86/100 [00:19<00:03,  3.88epoch/s, grad=1.61e+05, loss=5.01e+05, w=7.66]\u001b[A\n",
      " 87%|████████▋ | 87/100 [00:19<00:03,  3.82epoch/s, grad=1.61e+05, loss=5.01e+05, w=7.66]\u001b[A\n",
      " 87%|████████▋ | 87/100 [00:19<00:03,  3.82epoch/s, grad=1.61e+05, loss=5.01e+05, w=7.66]\u001b[A\n",
      " 88%|████████▊ | 88/100 [00:19<00:02,  4.04epoch/s, grad=1.61e+05, loss=5.01e+05, w=7.66]\u001b[A\n"
     ]
    },
    {
     "name": "stderr",
     "output_type": "stream",
     "text": [
      " 88%|████████▊ | 88/100 [00:19<00:02,  4.04epoch/s, grad=1.61e+05, loss=5e+05, w=7.66]   \u001b[A\n",
      " 89%|████████▉ | 89/100 [00:19<00:02,  4.16epoch/s, grad=1.61e+05, loss=5e+05, w=7.66]\u001b[A\n",
      " 89%|████████▉ | 89/100 [00:19<00:02,  4.16epoch/s, grad=1.61e+05, loss=5e+05, w=7.66]\u001b[A\n",
      " 90%|█████████ | 90/100 [00:19<00:02,  4.21epoch/s, grad=1.61e+05, loss=5e+05, w=7.66]\u001b[A\n",
      " 90%|█████████ | 90/100 [00:20<00:02,  4.21epoch/s, grad=1.61e+05, loss=5e+05, w=7.66]\u001b[A\n",
      " 91%|█████████ | 91/100 [00:20<00:02,  4.18epoch/s, grad=1.61e+05, loss=5e+05, w=7.66]\u001b[A\n",
      " 91%|█████████ | 91/100 [00:20<00:02,  4.18epoch/s, grad=1.61e+05, loss=5e+05, w=7.65]\u001b[A\n",
      " 92%|█████████▏| 92/100 [00:20<00:01,  4.17epoch/s, grad=1.61e+05, loss=5e+05, w=7.65]\u001b[A\n",
      " 92%|█████████▏| 92/100 [00:20<00:01,  4.17epoch/s, grad=1.61e+05, loss=4.99e+05, w=7.65]\u001b[A\n",
      " 93%|█████████▎| 93/100 [00:20<00:01,  4.19epoch/s, grad=1.61e+05, loss=4.99e+05, w=7.65]\u001b[A\n",
      " 93%|█████████▎| 93/100 [00:20<00:01,  4.19epoch/s, grad=1.61e+05, loss=4.99e+05, w=7.65]\u001b[A\n",
      " 94%|█████████▍| 94/100 [00:20<00:01,  4.12epoch/s, grad=1.61e+05, loss=4.99e+05, w=7.65]\u001b[A\n",
      " 94%|█████████▍| 94/100 [00:20<00:01,  4.12epoch/s, grad=1.6e+05, loss=4.99e+05, w=7.65] \u001b[A\n",
      " 95%|█████████▌| 95/100 [00:20<00:01,  4.25epoch/s, grad=1.6e+05, loss=4.99e+05, w=7.65]\u001b[A\n",
      " 95%|█████████▌| 95/100 [00:21<00:01,  4.25epoch/s, grad=1.6e+05, loss=4.99e+05, w=7.65]\u001b[A\n",
      " 96%|█████████▌| 96/100 [00:21<00:00,  4.28epoch/s, grad=1.6e+05, loss=4.99e+05, w=7.65]\u001b[A\n",
      " 96%|█████████▌| 96/100 [00:21<00:00,  4.28epoch/s, grad=1.6e+05, loss=4.98e+05, w=7.65]\u001b[A\n",
      " 97%|█████████▋| 97/100 [00:21<00:00,  4.25epoch/s, grad=1.6e+05, loss=4.98e+05, w=7.65]\u001b[A\n",
      " 97%|█████████▋| 97/100 [00:21<00:00,  4.25epoch/s, grad=1.6e+05, loss=4.98e+05, w=7.65]\u001b[A\n",
      " 98%|█████████▊| 98/100 [00:21<00:00,  4.33epoch/s, grad=1.6e+05, loss=4.98e+05, w=7.65]\u001b[A\n",
      " 98%|█████████▊| 98/100 [00:21<00:00,  4.33epoch/s, grad=1.6e+05, loss=4.98e+05, w=7.65]\u001b[A\n",
      " 99%|█████████▉| 99/100 [00:21<00:00,  4.32epoch/s, grad=1.6e+05, loss=4.98e+05, w=7.65]\u001b[A\n",
      " 99%|█████████▉| 99/100 [00:22<00:00,  4.32epoch/s, grad=1.6e+05, loss=4.98e+05, w=7.65]\u001b[A\n",
      "100%|██████████| 100/100 [00:22<00:00,  4.04epoch/s, grad=1.6e+05, loss=4.98e+05, w=7.65]\u001b[A\n",
      "\u001b[A\n"
     ]
    },
    {
     "ename": "ValueError",
     "evalue": "setting an array element with a sequence.",
     "output_type": "error",
     "traceback": [
      "\u001b[0;31m---------------------------------------------------------------------------\u001b[0m",
      "\u001b[0;31mValueError\u001b[0m                                Traceback (most recent call last)",
      "\u001b[0;32m<ipython-input-13-212fb4633abd>\u001b[0m in \u001b[0;36m<module>\u001b[0;34m()\u001b[0m\n\u001b[1;32m      6\u001b[0m \u001b[0mloss\u001b[0m \u001b[0;34m=\u001b[0m \u001b[0mmodel_logistic\u001b[0m\u001b[0;34m.\u001b[0m\u001b[0mreg_loss\u001b[0m\u001b[0;34m\u001b[0m\u001b[0m\n\u001b[1;32m      7\u001b[0m \u001b[0;34m\u001b[0m\u001b[0m\n\u001b[0;32m----> 8\u001b[0;31m \u001b[0mk_fold\u001b[0m\u001b[0;34m.\u001b[0m\u001b[0mcross_validation_select\u001b[0m\u001b[0;34m(\u001b[0m\u001b[0mX_p\u001b[0m\u001b[0;34m,\u001b[0m \u001b[0my_01\u001b[0m\u001b[0;34m,\u001b[0m \u001b[0mmodel\u001b[0m\u001b[0;34m,\u001b[0m \u001b[0mloss\u001b[0m\u001b[0;34m,\u001b[0m \u001b[0mkw_model\u001b[0m \u001b[0;34m=\u001b[0m \u001b[0mmodel_args\u001b[0m\u001b[0;34m,\u001b[0m \u001b[0mseed\u001b[0m \u001b[0;34m=\u001b[0m \u001b[0;36m1\u001b[0m\u001b[0;34m,\u001b[0m \u001b[0mk_fold\u001b[0m \u001b[0;34m=\u001b[0m \u001b[0;36m5\u001b[0m\u001b[0;34m,\u001b[0m \u001b[0mN\u001b[0m \u001b[0;34m=\u001b[0m \u001b[0;36m30\u001b[0m\u001b[0;34m,\u001b[0m \u001b[0mdo_plot\u001b[0m \u001b[0;34m=\u001b[0m \u001b[0;32mTrue\u001b[0m\u001b[0;34m)\u001b[0m\u001b[0;34m\u001b[0m\u001b[0m\n\u001b[0m",
      "\u001b[0;32m~/Documents/repos/git/EPFL/ML/Project1/src/scripts/k_fold.py\u001b[0m in \u001b[0;36mcross_validation_select\u001b[0;34m(x, y, model, loss, kw_model, kw_loss, seed, k_fold, N, do_plot)\u001b[0m\n\u001b[1;32m     54\u001b[0m         \u001b[0;32mfor\u001b[0m \u001b[0mk\u001b[0m \u001b[0;32min\u001b[0m \u001b[0mrange\u001b[0m\u001b[0;34m(\u001b[0m\u001b[0mk_fold\u001b[0m\u001b[0;34m)\u001b[0m\u001b[0;34m:\u001b[0m\u001b[0;34m\u001b[0m\u001b[0m\n\u001b[1;32m     55\u001b[0m             [rmse_[i].append(x) for i, x in\n\u001b[0;32m---> 56\u001b[0;31m              enumerate(cross_validation(y, x, k_indices, k, model, kw_model, loss, kw_loss, lambda_))]\n\u001b[0m\u001b[1;32m     57\u001b[0m         \u001b[0;34m[\u001b[0m\u001b[0mrmse\u001b[0m\u001b[0;34m[\u001b[0m\u001b[0mi\u001b[0m\u001b[0;34m]\u001b[0m\u001b[0;34m.\u001b[0m\u001b[0mappend\u001b[0m\u001b[0;34m(\u001b[0m\u001b[0mnp\u001b[0m\u001b[0;34m.\u001b[0m\u001b[0mmean\u001b[0m\u001b[0;34m(\u001b[0m\u001b[0mx\u001b[0m\u001b[0;34m)\u001b[0m\u001b[0;34m)\u001b[0m \u001b[0;32mfor\u001b[0m \u001b[0;34m(\u001b[0m\u001b[0mi\u001b[0m\u001b[0;34m,\u001b[0m \u001b[0mx\u001b[0m\u001b[0;34m)\u001b[0m \u001b[0;32min\u001b[0m \u001b[0menumerate\u001b[0m\u001b[0;34m(\u001b[0m\u001b[0mrmse_\u001b[0m\u001b[0;34m)\u001b[0m\u001b[0;34m]\u001b[0m\u001b[0;34m\u001b[0m\u001b[0m\n\u001b[1;32m     58\u001b[0m         \u001b[0;34m[\u001b[0m\u001b[0mrmse_all\u001b[0m\u001b[0;34m[\u001b[0m\u001b[0mi\u001b[0m\u001b[0;34m]\u001b[0m\u001b[0;34m.\u001b[0m\u001b[0mappend\u001b[0m\u001b[0;34m(\u001b[0m\u001b[0mx\u001b[0m\u001b[0;34m)\u001b[0m \u001b[0;32mfor\u001b[0m \u001b[0;34m(\u001b[0m\u001b[0mi\u001b[0m\u001b[0;34m,\u001b[0m \u001b[0mx\u001b[0m\u001b[0;34m)\u001b[0m \u001b[0;32min\u001b[0m \u001b[0menumerate\u001b[0m\u001b[0;34m(\u001b[0m\u001b[0mrmse_\u001b[0m\u001b[0;34m)\u001b[0m\u001b[0;34m]\u001b[0m\u001b[0;34m\u001b[0m\u001b[0m\n",
      "\u001b[0;32m~/Documents/repos/git/EPFL/ML/Project1/src/scripts/k_fold.py\u001b[0m in \u001b[0;36mcross_validation\u001b[0;34m(y, tx, k_indices, k, model, kw_model, loss, kw_loss, lambda_)\u001b[0m\n\u001b[1;32m     34\u001b[0m \u001b[0;34m\u001b[0m\u001b[0m\n\u001b[1;32m     35\u001b[0m     \u001b[0;31m# computing losses\u001b[0m\u001b[0;34m\u001b[0m\u001b[0;34m\u001b[0m\u001b[0m\n\u001b[0;32m---> 36\u001b[0;31m     \u001b[0mloss_tr\u001b[0m \u001b[0;34m=\u001b[0m \u001b[0mloss\u001b[0m\u001b[0;34m(\u001b[0m\u001b[0my_tr\u001b[0m\u001b[0;34m,\u001b[0m \u001b[0mx_tr\u001b[0m\u001b[0;34m,\u001b[0m \u001b[0mweights\u001b[0m\u001b[0;34m,\u001b[0m \u001b[0mlambda_\u001b[0m\u001b[0;34m,\u001b[0m \u001b[0;34m**\u001b[0m\u001b[0mkw_loss\u001b[0m\u001b[0;34m)\u001b[0m\u001b[0;34m\u001b[0m\u001b[0m\n\u001b[0m\u001b[1;32m     37\u001b[0m     \u001b[0mloss_te\u001b[0m \u001b[0;34m=\u001b[0m \u001b[0mloss\u001b[0m\u001b[0;34m(\u001b[0m\u001b[0my_te\u001b[0m\u001b[0;34m,\u001b[0m \u001b[0mx_te\u001b[0m\u001b[0;34m,\u001b[0m \u001b[0mweights\u001b[0m\u001b[0;34m,\u001b[0m \u001b[0mlambda_\u001b[0m\u001b[0;34m,\u001b[0m \u001b[0;34m**\u001b[0m\u001b[0mkw_loss\u001b[0m\u001b[0;34m)\u001b[0m\u001b[0;34m\u001b[0m\u001b[0m\n\u001b[1;32m     38\u001b[0m \u001b[0;34m\u001b[0m\u001b[0m\n",
      "\u001b[0;32m~/Documents/repos/git/EPFL/ML/Project1/src/scripts/model_logistic.py\u001b[0m in \u001b[0;36mreg_loss\u001b[0;34m(y, tx, w, lambda_)\u001b[0m\n\u001b[1;32m     16\u001b[0m \u001b[0;32mdef\u001b[0m \u001b[0mreg_loss\u001b[0m\u001b[0;34m(\u001b[0m\u001b[0my\u001b[0m\u001b[0;34m,\u001b[0m \u001b[0mtx\u001b[0m\u001b[0;34m,\u001b[0m \u001b[0mw\u001b[0m\u001b[0;34m,\u001b[0m \u001b[0mlambda_\u001b[0m\u001b[0;34m)\u001b[0m\u001b[0;34m:\u001b[0m\u001b[0;34m\u001b[0m\u001b[0m\n\u001b[1;32m     17\u001b[0m     \u001b[0;34m\"\"\" returns regularized logistic regression loss \"\"\"\u001b[0m\u001b[0;34m\u001b[0m\u001b[0m\n\u001b[0;32m---> 18\u001b[0;31m     \u001b[0;32mreturn\u001b[0m \u001b[0mloss\u001b[0m\u001b[0;34m(\u001b[0m\u001b[0my\u001b[0m\u001b[0;34m,\u001b[0m \u001b[0mtx\u001b[0m\u001b[0;34m,\u001b[0m \u001b[0mw\u001b[0m\u001b[0;34m)\u001b[0m \u001b[0;34m+\u001b[0m \u001b[0mlambda_\u001b[0m \u001b[0;34m*\u001b[0m \u001b[0;34m(\u001b[0m\u001b[0mw\u001b[0m\u001b[0;34m.\u001b[0m\u001b[0mT\u001b[0m \u001b[0;34m@\u001b[0m \u001b[0mw\u001b[0m\u001b[0;34m)\u001b[0m\u001b[0;34m\u001b[0m\u001b[0m\n\u001b[0m",
      "\u001b[0;32m~/Documents/repos/git/EPFL/ML/Project1/src/scripts/model_logistic.py\u001b[0m in \u001b[0;36mloss\u001b[0;34m(y, tx, w)\u001b[0m\n\u001b[1;32m      8\u001b[0m \u001b[0;32mdef\u001b[0m \u001b[0mloss\u001b[0m\u001b[0;34m(\u001b[0m\u001b[0my\u001b[0m\u001b[0;34m,\u001b[0m \u001b[0mtx\u001b[0m\u001b[0;34m,\u001b[0m \u001b[0mw\u001b[0m\u001b[0;34m)\u001b[0m\u001b[0;34m:\u001b[0m\u001b[0;34m\u001b[0m\u001b[0m\n\u001b[1;32m      9\u001b[0m     \u001b[0;34m\"\"\" returns logistic regression loss \"\"\"\u001b[0m\u001b[0;34m\u001b[0m\u001b[0m\n\u001b[0;32m---> 10\u001b[0;31m     \u001b[0;32mreturn\u001b[0m \u001b[0mnp\u001b[0m\u001b[0;34m.\u001b[0m\u001b[0msum\u001b[0m\u001b[0;34m(\u001b[0m\u001b[0;34m-\u001b[0m \u001b[0mnp\u001b[0m\u001b[0;34m.\u001b[0m\u001b[0mmultiply\u001b[0m\u001b[0;34m(\u001b[0m\u001b[0mtx\u001b[0m \u001b[0;34m@\u001b[0m \u001b[0mw\u001b[0m\u001b[0;34m,\u001b[0m \u001b[0my\u001b[0m\u001b[0;34m)\u001b[0m \u001b[0;34m+\u001b[0m \u001b[0mnp\u001b[0m\u001b[0;34m.\u001b[0m\u001b[0mlog1p\u001b[0m\u001b[0;34m(\u001b[0m\u001b[0mnp\u001b[0m\u001b[0;34m.\u001b[0m\u001b[0mexp\u001b[0m\u001b[0;34m(\u001b[0m\u001b[0mtx\u001b[0m \u001b[0;34m@\u001b[0m \u001b[0mw\u001b[0m\u001b[0;34m)\u001b[0m\u001b[0;34m)\u001b[0m\u001b[0;34m)\u001b[0m\u001b[0;34m\u001b[0m\u001b[0m\n\u001b[0m\u001b[1;32m     11\u001b[0m \u001b[0;34m\u001b[0m\u001b[0m\n\u001b[1;32m     12\u001b[0m \u001b[0;32mdef\u001b[0m \u001b[0mreg_grad\u001b[0m\u001b[0;34m(\u001b[0m\u001b[0my\u001b[0m\u001b[0;34m,\u001b[0m \u001b[0mtx\u001b[0m\u001b[0;34m,\u001b[0m \u001b[0mw\u001b[0m\u001b[0;34m,\u001b[0m \u001b[0mlambda_\u001b[0m\u001b[0;34m)\u001b[0m\u001b[0;34m:\u001b[0m\u001b[0;34m\u001b[0m\u001b[0m\n",
      "\u001b[0;31mValueError\u001b[0m: setting an array element with a sequence."
     ]
    }
   ],
   "source": [
    "y_01 = helpers.y_to_01(np.array([y]).T)\n",
    "w0 = np.random.randn(X_p.shape[1], 1)\n",
    "\n",
    "model = implementation.reg_logistic_regression\n",
    "model_args = {'initial_w': w0, 'max_iters': 100, 'gamma': 1e-8, 'debug': False}\n",
    "loss = model_logistic.reg_loss\n",
    "\n",
    "k_fold.cross_validation_select(X_p, y_01, model, loss, kw_model = model_args, seed = 1, k_fold = 5, N = 30, do_plot = True)"
   ]
  },
  {
   "cell_type": "markdown",
   "metadata": {},
   "source": [
    "Predicting values and saving to file"
   ]
  },
  {
   "cell_type": "code",
   "execution_count": 31,
   "metadata": {},
   "outputs": [
    {
     "name": "stdout",
     "output_type": "stream",
     "text": [
      "Ones in test are 78.18% of train\n"
     ]
    }
   ],
   "source": [
    "y_pred = proj1_helpers.predict_labels(w, X_t_p)\n",
    "y_1_t = np.mean(X_t_p @ w > 0)\n",
    "y_1 = np.mean(y > 0)\n",
    "print(\"Ones in test are %.2f%% of train\" % (100. * y_1_t / y_1))"
   ]
  },
  {
   "cell_type": "code",
   "execution_count": 29,
   "metadata": {
    "collapsed": true
   },
   "outputs": [],
   "source": [
    "proj1_helpers.create_csv_submission(ids_t, y_pred, output_path)"
   ]
  }
 ],
 "metadata": {
  "kernelspec": {
   "display_name": "Python 3",
   "language": "python",
   "name": "python3"
  },
  "language_info": {
   "codemirror_mode": {
    "name": "ipython",
    "version": 3
   },
   "file_extension": ".py",
   "mimetype": "text/x-python",
   "name": "python",
   "nbconvert_exporter": "python",
   "pygments_lexer": "ipython3",
   "version": "3.6.2"
  }
 },
 "nbformat": 4,
 "nbformat_minor": 2
}
