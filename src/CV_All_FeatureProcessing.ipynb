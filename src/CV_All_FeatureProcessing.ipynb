{
 "cells": [
  {
   "cell_type": "code",
   "execution_count": 9,
   "metadata": {},
   "outputs": [
    {
     "name": "stdout",
     "output_type": "stream",
     "text": [
      "The autoreload extension is already loaded. To reload it, use:\n",
      "  %reload_ext autoreload\n"
     ]
    }
   ],
   "source": [
    "# Imports\n",
    "%load_ext autoreload\n",
    "%autoreload 2\n",
    "%matplotlib inline\n",
    "from matplotlib import pyplot as plt\n",
    "import csv\n",
    "import importlib\n",
    "from scripts import proj1_helpers, helpers\n",
    "from scripts import implementation, feature_processing, k_fold, model_linear, model_logistic\n",
    "import numpy as np"
   ]
  },
  {
   "cell_type": "code",
   "execution_count": 2,
   "metadata": {
    "collapsed": true
   },
   "outputs": [],
   "source": [
    "train_path = '../data/train.csv'\n",
    "test_path  = '../data/test.csv'\n",
    "output_path = '../data/linear_processed_submission.csv'"
   ]
  },
  {
   "cell_type": "code",
   "execution_count": null,
   "metadata": {
    "scrolled": false
   },
   "outputs": [],
   "source": [
    "# loading data\n",
    "y, X, idx = proj1_helpers.load_csv_data(train_path)\n",
    "y_t, X_t, ids_t = proj1_helpers.load_csv_data(test_path)"
   ]
  },
  {
   "cell_type": "code",
   "execution_count": 5,
   "metadata": {},
   "outputs": [
    {
     "name": "stderr",
     "output_type": "stream",
     "text": [
      "100%|██████████| 5/5 [00:08<00:00,  1.66s/it]\n",
      "100%|██████████| 5/5 [00:18<00:00,  3.55s/it]\n"
     ]
    }
   ],
   "source": [
    "X_p = feature_processing.process_X(X)\n",
    "X_t_p = feature_processing.process_X(X_t)"
   ]
  },
  {
   "cell_type": "code",
   "execution_count": null,
   "metadata": {},
   "outputs": [],
   "source": [
    "#Linear\n",
    "model = implementation.ridge_regression\n",
    "loss = model_linear.compute_accuracy_loss\n",
    "\n",
    "idx_min, rmse_all, lambdas = k_fold.cross_validation_select(X_p[:2000,:], y[:2000], model, loss, seed = 1,\n",
    "                                                            k_fold = 2, N = 20, do_plot = True, do_tqdm = True)"
   ]
  },
  {
   "cell_type": "code",
   "execution_count": 20,
   "metadata": {},
   "outputs": [
    {
     "name": "stderr",
     "output_type": "stream",
     "text": [
      "100%|██████████| 500/500 [00:05<00:00, 93.75epoch/s, grad=32, loss=1.16e+03, w=5.32]     \n",
      "100%|██████████| 500/500 [00:05<00:00, 97.18epoch/s, grad=23.6, loss=1.08e+03, w=5.53] \n",
      "100%|██████████| 500/500 [00:05<00:00, 94.84epoch/s, grad=16.3, loss=1.11e+03, w=5.83] \n",
      "100%|██████████| 500/500 [00:05<00:00, 96.06epoch/s, grad=15.1, loss=1.05e+03, w=6.18] \n",
      "100%|██████████| 500/500 [00:04<00:00, 115.86epoch/s, grad=12.6, loss=1.09e+03, w=6.42]\n",
      "100%|██████████| 500/500 [00:04<00:00, 105.36epoch/s, grad=12.2, loss=1.04e+03, w=6.74]\n",
      "100%|██████████| 500/500 [00:04<00:00, 101.91epoch/s, grad=10.3, loss=1.09e+03, w=6.92]\n",
      "100%|██████████| 500/500 [00:04<00:00, 105.59epoch/s, grad=10.6, loss=1.03e+03, w=7.19]\n",
      "100%|██████████| 500/500 [00:04<00:00, 103.09epoch/s, grad=10.2, loss=1.13e+03, w=6.73]\n",
      "100%|██████████| 500/500 [00:04<00:00, 104.88epoch/s, grad=11.1, loss=1.07e+03, w=6.46]\n"
     ]
    },
    {
     "data": {
      "image/png": "[encoded data removed]",
      "text/plain": [
       "<matplotlib.figure.Figure at 0x7fde173859e8>"
      ]
     },
     "metadata": {},
     "output_type": "display_data"
    }
   ],
   "source": [
    "#Logistic\n",
    "y_01 = helpers.y_to_01(np.array([y]).T)\n",
    "w0 = np.random.randn(X_p.shape[1], 1)\n",
    "model = implementation.reg_logistic_regression\n",
    "model_args = {'initial_w': w0, 'max_iters': 500, 'gamma': 1e-4, 'debug': False}\n",
    "#loss = model_logistic.reg_loss\n",
    "loss = model_linear.compute_accuracy_loss\n",
    "\n",
    "idx_min, rmse_all, lambdas = k_fold.cross_validation_select(X_p[:5000,:], y_01[:5000], model, loss, kw_model = model_args, seed = 1,\n",
    "                                                            k_fold = 2, N = 5, do_plot = True, do_tqdm = False)"
   ]
  },
  {
   "cell_type": "code",
   "execution_count": null,
   "metadata": {
    "collapsed": true
   },
   "outputs": [],
   "source": [
    "lambda_ = lambdas[idx_min]\n",
    "w, l = model(y, X_p, lambda_ = lambda_)"
   ]
  },
  {
   "cell_type": "code",
   "execution_count": null,
   "metadata": {
    "collapsed": true
   },
   "outputs": [],
   "source": [
    "y_pred = proj1_helpers.predict_labels(w, X_t_p)\n",
    "proj1_helpers.create_csv_submission(ids_t, y_pred, output_path)"
   ]
  }
 ],
 "metadata": {
  "anaconda-cloud": {},
  "kernelspec": {
   "display_name": "Python 3",
   "language": "python",
   "name": "python3"
  },
  "language_info": {
   "codemirror_mode": {
    "name": "ipython",
    "version": 3
   },
   "file_extension": ".py",
   "mimetype": "text/x-python",
   "name": "python",
   "nbconvert_exporter": "python",
   "pygments_lexer": "ipython3",
   "version": "3.6.2"
  }
 },
 "nbformat": 4,
 "nbformat_minor": 1
}
