{
 "cells": [
  {
   "cell_type": "code",
   "execution_count": 1,
   "metadata": {
    "collapsed": true
   },
   "outputs": [],
   "source": [
    "# Imports\n",
    "%load_ext autoreload\n",
    "%autoreload 2\n",
    "%matplotlib inline\n",
    "from matplotlib import pyplot as plt\n",
    "import csv\n",
    "import importlib\n",
    "from tqdm import tqdm\n",
    "from scripts import proj1_helpers, helpers\n",
    "from scripts import implementation, feature_processing, k_fold, model_linear, model_logistic\n",
    "import numpy as np"
   ]
  },
  {
   "cell_type": "code",
   "execution_count": 2,
   "metadata": {
    "collapsed": true
   },
   "outputs": [],
   "source": [
    "train_path = '../data/train.csv'\n",
    "test_path  = '../data/test.csv'\n",
    "output_path = '../data/linear_processed_submission.csv'"
   ]
  },
  {
   "cell_type": "code",
   "execution_count": 3,
   "metadata": {
    "collapsed": true,
    "scrolled": false
   },
   "outputs": [],
   "source": [
    "# loading data\n",
    "y, X, idx = proj1_helpers.load_csv_data(train_path)\n",
    "y_t, X_t, ids_t = proj1_helpers.load_csv_data(test_path)"
   ]
  },
  {
   "cell_type": "code",
   "execution_count": 4,
   "metadata": {},
   "outputs": [
    {
     "name": "stderr",
     "output_type": "stream",
     "text": [
      "100%|██████████| 5/5 [00:08<00:00,  1.59s/it]\n",
      "100%|██████████| 5/5 [00:17<00:00,  3.30s/it]\n"
     ]
    }
   ],
   "source": [
    "X_p, (x_mean, x_std) = feature_processing.process_X(X, 2)\n",
    "X_t_p, _ = feature_processing.process_X(X_t, 2, (x_mean, x_std))"
   ]
  },
  {
   "cell_type": "code",
   "execution_count": null,
   "metadata": {
    "collapsed": true
   },
   "outputs": [],
   "source": [
    "#Linear\n",
    "model = implementation.ridge_regression\n",
    "loss = model_linear.compute_accuracy_loss\n",
    "\n",
    "idx_min_l, rmse_all_l, lambdas_l = k_fold.cross_validation_select(X_p, y, model, loss, seed = 1,\n",
    "                                                            k_fold = 3, N = 20, do_plot = True, do_tqdm = True)"
   ]
  },
  {
   "cell_type": "code",
   "execution_count": null,
   "metadata": {
    "collapsed": true
   },
   "outputs": [],
   "source": [
    "lambda_ = lambdas[idx_min]\n",
    "print(lambda_)\n",
    "w, l = implementation.ridge_regression(y, X_p, lambda_ = 0)"
   ]
  },
  {
   "cell_type": "code",
   "execution_count": 7,
   "metadata": {},
   "outputs": [
    {
     "name": "stderr",
     "output_type": "stream",
     "text": [
      " 14%|█▎        | 68/500 [00:19<02:02,  3.53epoch/s, acc=-0.8, diff=0.152, grad=106, loss=7.35e+04, w=188] /home/sergei/Documents/repos/git/EPFL/ML/Project1/src/scripts/model_logistic.py:12: RuntimeWarning: overflow encountered in exp\n",
      "  return -np.sum(np.multiply((tx @ w).flatten(), y.flatten())) + np.sum(np.log1p(np.exp(tx @ w)))\n",
      "100%|██████████| 500/500 [02:17<00:00,  4.11epoch/s, acc=-0.8, diff=1.41e-05, grad=106, loss=inf, w=193] \n",
      "100%|██████████| 500/500 [02:08<00:00,  4.21epoch/s, acc=-0.81, diff=1.17e-05, grad=61.4, loss=7.3e+04, w=197]\n",
      "100%|██████████| 500/500 [02:10<00:00,  4.07epoch/s, acc=-0.81, diff=1.93e-05, grad=92.3, loss=inf, w=212]\n",
      "100%|██████████| 500/500 [02:09<00:00,  3.74epoch/s, acc=-0.8, diff=3.31e-06, grad=44.7, loss=inf, w=166]  \n",
      "100%|██████████| 500/500 [02:09<00:00,  4.14epoch/s, acc=-0.81, diff=2.66e-06, grad=65.7, loss=7.3e+04, w=171]\n",
      "100%|██████████| 500/500 [02:11<00:00,  4.33epoch/s, acc=-0.81, diff=5.2e-06, grad=80, loss=inf, w=152]    \n",
      "100%|██████████| 500/500 [02:09<00:00,  4.03epoch/s, acc=-0.81, diff=1.83e-06, grad=48.2, loss=7.3e+04, w=143]\n",
      "100%|██████████| 500/500 [02:17<00:00,  4.38epoch/s, acc=-0.8, diff=2.64e-06, grad=32.7, loss=7.3e+04, w=158]\n",
      "100%|██████████| 500/500 [02:11<00:00,  4.23epoch/s, acc=-0.8, diff=2.1e-06, grad=29.7, loss=inf, w=141]   \n",
      "100%|██████████| 500/500 [02:11<00:00,  4.26epoch/s, acc=-0.8, diff=6.32e-07, grad=22.8, loss=inf, w=159]  \n",
      "100%|██████████| 500/500 [02:14<00:00,  4.49epoch/s, acc=-0.81, diff=4.43e-07, grad=20.6, loss=7.3e+04, w=168]\n",
      "100%|██████████| 500/500 [02:14<00:00,  4.11epoch/s, acc=-0.81, diff=3.11e-07, grad=29.3, loss=inf, w=143] \n",
      "100%|██████████| 500/500 [02:11<00:00,  4.15epoch/s, acc=-0.8, diff=3.08e-07, grad=17.6, loss=inf, w=145]  \n",
      "100%|██████████| 500/500 [02:11<00:00,  4.48epoch/s, acc=-0.8, diff=2.78e-07, grad=20.6, loss=7.3e+04, w=157]\n",
      "100%|██████████| 500/500 [02:12<00:00,  4.31epoch/s, acc=-0.81, diff=1.4e-07, grad=12.9, loss=inf, w=127]  \n",
      "100%|██████████| 500/500 [02:10<00:00,  4.24epoch/s, acc=-0.8, diff=3.59e-08, grad=12.5, loss=inf, w=137]  \n",
      "100%|██████████| 500/500 [02:11<00:00,  4.35epoch/s, acc=-0.81, diff=3.4e-08, grad=26.2, loss=7.3e+04, w=145] \n",
      "100%|██████████| 500/500 [02:12<00:00,  4.31epoch/s, acc=-0.81, diff=6.98e-08, grad=11.7, loss=inf, w=124] \n",
      "100%|██████████| 500/500 [02:12<00:00,  3.91epoch/s, acc=-0.8, diff=4.5e-08, grad=20.9, loss=inf, w=127]   \n",
      "100%|██████████| 500/500 [02:10<00:00,  4.06epoch/s, acc=-0.8, diff=1.51e-08, grad=14.2, loss=7.3e+04, w=133]\n",
      "100%|██████████| 500/500 [02:12<00:00,  4.20epoch/s, acc=-0.81, diff=3.79e-08, grad=23.6, loss=inf, w=104] \n",
      "100%|██████████| 500/500 [02:11<00:00,  3.99epoch/s, acc=-0.8, diff=2.94e-08, grad=32.5, loss=inf, w=93.4]  \n",
      "100%|██████████| 500/500 [02:11<00:00,  4.01epoch/s, acc=-0.8, diff=1.33e-08, grad=15.7, loss=7.3e+04, w=112]\n",
      "100%|██████████| 500/500 [02:13<00:00,  4.23epoch/s, acc=-0.81, diff=4.11e-08, grad=30.1, loss=inf, w=81.4] \n",
      "100%|██████████| 500/500 [02:11<00:00,  4.36epoch/s, acc=-0.8, diff=7.15e-09, grad=19, loss=inf, w=66.6]    \n",
      "100%|██████████| 500/500 [02:11<00:00,  4.14epoch/s, acc=-0.8, diff=7.47e-09, grad=19.2, loss=7.3e+04, w=72.2]\n",
      "100%|██████████| 500/500 [02:11<00:00,  4.10epoch/s, acc=-0.81, diff=1.74e-08, grad=17.8, loss=inf, w=58.6] \n",
      "100%|██████████| 500/500 [1:22:42<00:00, 83.77s/epoch, acc=-0.8, diff=3.78e-09, grad=8.18, loss=inf, w=40]    \n",
      "100%|██████████| 500/500 [02:35<00:00,  2.14epoch/s, acc=-0.8, diff=2.69e-09, grad=12.6, loss=7.3e+04, w=43.7]\n",
      "100%|██████████| 500/500 [02:53<00:00,  2.82epoch/s, acc=-0.81, diff=3.11e-09, grad=7.68, loss=inf, w=34.5] \n",
      "100%|██████████| 500/500 [02:35<00:00,  3.96epoch/s, acc=-0.8, diff=1.3e-09, grad=6, loss=inf, w=21.3]      \n",
      "100%|██████████| 500/500 [02:38<00:00,  3.86epoch/s, acc=-0.81, diff=2.05e-09, grad=8.46, loss=7.31e+04, w=24.3]\n",
      "100%|██████████| 500/500 [03:36<00:00,  2.03epoch/s, acc=-0.81, diff=2.49e-09, grad=6.44, loss=inf, w=19.2] \n",
      "100%|██████████| 500/500 [02:44<00:00,  3.95epoch/s, acc=-0.8, diff=6.65e-10, grad=3.2, loss=inf, w=12.4]    \n",
      "100%|██████████| 500/500 [02:31<00:00,  3.51epoch/s, acc=-0.8, diff=5.1e-10, grad=3.85, loss=7.31e+04, w=13.3] \n",
      "100%|██████████| 500/500 [02:35<00:00,  3.04epoch/s, acc=-0.81, diff=0.0219, grad=3.24, loss=inf, w=12.7]  \n",
      "100%|██████████| 500/500 [02:40<00:00,  2.60epoch/s, acc=-0.8, diff=3.51e-10, grad=3.1, loss=inf, w=9.43]  \n",
      "100%|██████████| 500/500 [02:47<00:00,  2.37epoch/s, acc=-0.8, diff=3.93e-10, grad=2.25, loss=7.31e+04, w=10.2]\n",
      "100%|██████████| 500/500 [03:07<00:00,  2.80epoch/s, acc=-0.8, diff=3.44e-10, grad=3.2, loss=inf, w=9.8]   \n",
      "100%|██████████| 500/500 [03:08<00:00,  3.53epoch/s, acc=-0.8, diff=2.88e-10, grad=2.29, loss=inf, w=8.68]  \n",
      "100%|██████████| 500/500 [03:01<00:00,  3.60epoch/s, acc=-0.81, diff=8.41e-09, grad=2.61, loss=7.31e+04, w=9.97]\n",
      "100%|██████████| 500/500 [03:04<00:00,  2.22epoch/s, acc=-0.81, diff=9.93e-07, grad=2.05, loss=inf, w=9.45]\n",
      "100%|██████████| 500/500 [03:03<00:00,  3.65epoch/s, acc=-0.8, diff=3.3e-10, grad=2.1, loss=inf, w=8.84]   \n",
      "100%|██████████| 500/500 [02:51<00:00,  2.38epoch/s, acc=-0.81, diff=3.79e-10, grad=1.93, loss=7.31e+04, w=9.46]\n",
      "100%|██████████| 500/500 [03:03<00:00,  2.64epoch/s, acc=-0.8, diff=8.48e-10, grad=1.47, loss=inf, w=8.56] \n",
      "100%|██████████| 500/500 [02:56<00:00,  2.97epoch/s, acc=-0.8, diff=3.35e-10, grad=1.82, loss=inf, w=8.09] \n",
      "100%|██████████| 500/500 [02:34<00:00,  3.42epoch/s, acc=-0.8, diff=2.9e-09, grad=1.43, loss=7.31e+04, w=9.18] \n",
      "100%|██████████| 500/500 [02:19<00:00,  3.85epoch/s, acc=-0.8, diff=5.85e-10, grad=1.61, loss=inf, w=8.64] \n",
      "100%|██████████| 500/500 [03:01<00:00,  4.13epoch/s, acc=-0.8, diff=3.23e-10, grad=1.31, loss=7.31e+04, w=7.8] \n",
      "100%|██████████| 500/500 [03:08<00:00,  2.05epoch/s, acc=-0.8, diff=3.29e-10, grad=1.58, loss=7.31e+04, w=8.67]\n",
      "100%|██████████| 500/500 [03:03<00:00,  3.50epoch/s, acc=-0.8, diff=2.78e-10, grad=1.96, loss=inf, w=8.63] \n",
      "100%|██████████| 500/500 [02:35<00:00,  2.42epoch/s, acc=-0.8, diff=2.6e-10, grad=1.27, loss=7.32e+04, w=7.27] \n",
      "100%|██████████| 500/500 [02:45<00:00,  3.60epoch/s, acc=-0.8, diff=3.9e-10, grad=1.6, loss=7.33e+04, w=7.78] \n",
      "100%|██████████| 500/500 [02:24<00:00,  4.12epoch/s, acc=-0.8, diff=3.63e-10, grad=1.36, loss=7.31e+04, w=7.47]\n",
      "100%|██████████| 500/500 [02:19<00:00,  4.07epoch/s, acc=-0.8, diff=3.65e-10, grad=1.16, loss=7.35e+04, w=6.18]\n",
      "100%|██████████| 500/500 [02:19<00:00,  3.86epoch/s, acc=-0.8, diff=5.39e-10, grad=1.43, loss=7.36e+04, w=6.56]\n",
      "100%|██████████| 500/500 [02:24<00:00,  3.77epoch/s, acc=-0.8, diff=3.38e-10, grad=1.06, loss=7.34e+04, w=6.46]\n",
      "100%|██████████| 500/500 [1:22:27<00:00,  4.44epoch/s, acc=-0.8, diff=3.67e-10, grad=1.07, loss=7.4e+04, w=5.15]     \n",
      "100%|██████████| 500/500 [02:27<00:00,  4.38epoch/s, acc=-0.8, diff=3.7e-10, grad=0.98, loss=7.41e+04, w=5.39] \n",
      "100%|██████████| 500/500 [02:59<00:00,  3.23epoch/s, acc=-0.8, diff=6.75e-09, grad=1.23, loss=7.39e+04, w=5.39]\n"
     ]
    },
    {
     "data": {
      "image/png": "[encoded data removed]",
      "text/plain": [
       "<matplotlib.figure.Figure at 0x7fbd83623f28>"
      ]
     },
     "metadata": {},
     "output_type": "display_data"
    }
   ],
   "source": [
    "#Logistic\n",
    "y_01 = helpers.y_to_01(np.array([y]).T)\n",
    "np.random.seed(1)\n",
    "w0 = np.zeros((X_p.shape[1], 1))#np.random.randn(X_p.shape[1], 1)\n",
    "model = implementation.reg_logistic_regression_newton_batch\n",
    "model_args = {'initial_w': w0, 'max_iters': 500, 'gamma': 5e-2, 'debug': False, 'batch_size': 50000}\n",
    "#loss = model_logistic.reg_loss\n",
    "loss = model_linear.compute_accuracy_loss\n",
    "\n",
    "lambdas = np.logspace(-6, 1, 20)\n",
    "\n",
    "idx_min, rmse_all, lambdas = k_fold.cross_validation_select(X_p, y_01, model, loss, kw_model = model_args, seed = 1,\n",
    "                                                            k_fold = 3, lambdas = lambdas, do_plot = True, do_tqdm = False)"
   ]
  },
  {
   "cell_type": "code",
   "execution_count": 8,
   "metadata": {},
   "outputs": [
    {
     "name": "stdout",
     "output_type": "stream",
     "text": [
      "2.33572146909e-06\n"
     ]
    }
   ],
   "source": [
    "lambda_ = lambdas[idx_min]\n",
    "print(lambda_)"
   ]
  },
  {
   "cell_type": "code",
   "execution_count": null,
   "metadata": {
    "collapsed": true
   },
   "outputs": [],
   "source": [
    "#w1, l = implementation.reg_logistic_regression(y_01, X_p, lambda_ = 0.1,\n",
    "#                                                     initial_w = w0, max_iters = 100, gamma = 1e-6, debug = False)"
   ]
  },
  {
   "cell_type": "code",
   "execution_count": null,
   "metadata": {},
   "outputs": [],
   "source": [
    "w1, l = implementation.reg_logistic_regression_newton_batch(y_01, X_p, lambda_ = 2.3e-6,\n",
    "                                                     initial_w = w0, batch_size = 50000,\n",
    "                                                     max_iters = 500, gamma = 1e-5, debug = False)"
   ]
  },
  {
   "cell_type": "code",
   "execution_count": 16,
   "metadata": {},
   "outputs": [
    {
     "name": "stderr",
     "output_type": "stream",
     "text": [
      " 35%|███▌      | 351/1000 [02:13<04:12,  2.57epoch/s, acc=-0.8, diff=0.205, grad=55.2, loss=1.1e+05, w=160]  /home/sergei/Documents/repos/git/EPFL/ML/Project1/src/scripts/model_logistic.py:12: RuntimeWarning: overflow encountered in exp\n",
      "  return -np.sum(np.multiply((tx @ w).flatten(), y.flatten())) + np.sum(np.log1p(np.exp(tx @ w)))\n",
      " 83%|████████▎ | 834/1000 [05:11<00:58,  2.85epoch/s, acc=-0.81, diff=0.00229, grad=55.1, loss=inf, w=166] \n"
     ]
    }
   ],
   "source": [
    "np.random.seed(42)\n",
    "w2, l = implementation.reg_logistic_regression_newton_batch(y_01, X_p, lambda_ = 2.3e-6,\n",
    "                                                     initial_w = w0, batch_size = 50000,\n",
    "                                                     max_iters = 1000, gamma = 1e-2, debug = False)"
   ]
  },
  {
   "cell_type": "code",
   "execution_count": 17,
   "metadata": {
    "collapsed": true
   },
   "outputs": [],
   "source": [
    "y_pred = proj1_helpers.predict_labels(w2, X_t_p)"
   ]
  },
  {
   "cell_type": "code",
   "execution_count": 19,
   "metadata": {
    "collapsed": true
   },
   "outputs": [],
   "source": [
    "proj1_helpers.create_csv_submission(ids_t, y_pred, output_path)"
   ]
  },
  {
   "cell_type": "code",
   "execution_count": null,
   "metadata": {
    "collapsed": true
   },
   "outputs": [],
   "source": [
    "tqdm.get_lock().locks = []"
   ]
  },
  {
   "cell_type": "code",
   "execution_count": 18,
   "metadata": {},
   "outputs": [
    {
     "data": {
      "text/plain": [
       "0.30075954089659612"
      ]
     },
     "execution_count": 18,
     "metadata": {},
     "output_type": "execute_result"
    }
   ],
   "source": [
    "np.mean(y_pred>0)"
   ]
  },
  {
   "cell_type": "code",
   "execution_count": null,
   "metadata": {
    "collapsed": true
   },
   "outputs": [],
   "source": []
  }
 ],
 "metadata": {
  "anaconda-cloud": {},
  "kernelspec": {
   "display_name": "Python 3",
   "language": "python",
   "name": "python3"
  },
  "language_info": {
   "codemirror_mode": {
    "name": "ipython",
    "version": 3
   },
   "file_extension": ".py",
   "mimetype": "text/x-python",
   "name": "python",
   "nbconvert_exporter": "python",
   "pygments_lexer": "ipython3",
   "version": "3.6.2"
  }
 },
 "nbformat": 4,
 "nbformat_minor": 1
}
