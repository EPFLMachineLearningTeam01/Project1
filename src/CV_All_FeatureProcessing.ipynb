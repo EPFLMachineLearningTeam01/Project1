{
 "cells": [
  {
   "cell_type": "code",
   "execution_count": null,
   "metadata": {},
   "outputs": [],
   "source": [
    "# Imports\n",
    "%load_ext autoreload\n",
    "%autoreload 2\n",
    "%matplotlib inline\n",
    "from matplotlib import pyplot as plt\n",
    "import csv\n",
    "import importlib\n",
    "from tqdm import tqdm\n",
    "from scripts import proj1_helpers, helpers\n",
    "from scripts import implementation, feature_processing, k_fold, model_linear, model_logistic\n",
    "import numpy as np"
   ]
  },
  {
   "cell_type": "code",
   "execution_count": null,
   "metadata": {
    "collapsed": true
   },
   "outputs": [],
   "source": [
    "train_path = '../data/train.csv'\n",
    "test_path  = '../data/test.csv'\n",
    "output_path = '../data/linear_processed_submission.csv'"
   ]
  },
  {
   "cell_type": "code",
   "execution_count": null,
   "metadata": {
    "collapsed": true,
    "scrolled": false
   },
   "outputs": [],
   "source": [
    "# loading data\n",
    "y, X, idx = proj1_helpers.load_csv_data(train_path)\n",
    "y_t, X_t, ids_t = proj1_helpers.load_csv_data(test_path)"
   ]
  },
  {
   "cell_type": "code",
   "execution_count": 251,
   "metadata": {},
   "outputs": [
    {
     "name": "stderr",
     "output_type": "stream",
     "text": [
      "100%|██████████| 5/5 [00:08<00:00,  1.67s/it]\n",
      "100%|██████████| 5/5 [00:18<00:00,  3.61s/it]\n"
     ]
    }
   ],
   "source": [
    "X_p, (x_mean, x_std) = feature_processing.process_X(X)\n",
    "X_t_p, _ = feature_processing.process_X(X_t, (x_mean, x_std))"
   ]
  },
  {
   "cell_type": "code",
   "execution_count": null,
   "metadata": {},
   "outputs": [],
   "source": [
    "#Linear\n",
    "model = implementation.ridge_regression\n",
    "loss = model_linear.compute_accuracy_loss\n",
    "\n",
    "idx_min_l, rmse_all_l, lambdas_l = k_fold.cross_validation_select(X_p, y, model, loss, seed = 1,\n",
    "                                                            k_fold = 3, N = 20, do_plot = True, do_tqdm = True)"
   ]
  },
  {
   "cell_type": "code",
   "execution_count": null,
   "metadata": {},
   "outputs": [],
   "source": [
    "lambda_ = lambdas[idx_min]\n",
    "print(lambda_)\n",
    "w, l = implementation.ridge_regression(y, X_p, lambda_ = 0)"
   ]
  },
  {
   "cell_type": "code",
   "execution_count": 314,
   "metadata": {},
   "outputs": [
    {
     "name": "stderr",
     "output_type": "stream",
     "text": [
      "  5%|▌         | 5/100 [00:01<00:26,  3.64epoch/s, acc=-0.79, diff=2.33, grad=173, loss=8.9e+04, w=171]/home/sergei/Documents/repos/git/EPFL/ML/Project1/src/scripts/model_logistic.py:12: RuntimeWarning: overflow encountered in exp\n",
      "  return -np.sum(np.multiply((tx @ w).flatten(), y.flatten())) + np.sum(np.log1p(np.exp(tx @ w)))\n",
      " 12%|█▏        | 12/100 [00:03<00:20,  4.35epoch/s, acc=-0.8, diff=0.0894, grad=139, loss=inf, w=199]  \n",
      " 16%|█▌        | 16/100 [00:04<00:20,  4.16epoch/s, acc=-0.81, diff=0.0169, grad=76.1, loss=7.3e+04, w=200]\n",
      " 16%|█▌        | 16/100 [00:04<00:22,  3.78epoch/s, acc=-0.8, diff=0.0991, grad=118, loss=inf, w=216]  \n",
      " 16%|█▌        | 16/100 [00:04<00:20,  4.10epoch/s, acc=-0.8, diff=0.0138, grad=82.6, loss=inf, w=184] \n",
      " 16%|█▌        | 16/100 [00:04<00:20,  4.01epoch/s, acc=-0.8, diff=0.0272, grad=135, loss=7.31e+04, w=187]\n",
      " 16%|█▌        | 16/100 [00:04<00:19,  4.31epoch/s, acc=-0.81, diff=0.0237, grad=153, loss=inf, w=184]  \n",
      " 16%|█▌        | 16/100 [00:04<00:18,  4.44epoch/s, acc=-0.81, diff=0.0189, grad=98.9, loss=inf, w=158] \n",
      " 16%|█▌        | 16/100 [00:04<00:20,  4.19epoch/s, acc=-0.8, diff=0.0152, grad=42.8, loss=7.32e+04, w=168]\n",
      " 16%|█▌        | 16/100 [00:04<00:20,  4.18epoch/s, acc=-0.8, diff=0.0184, grad=84.3, loss=inf, w=163] \n",
      " 16%|█▌        | 16/100 [00:04<00:19,  4.30epoch/s, acc=-0.8, diff=0.0156, grad=55.5, loss=inf, w=170]   \n",
      " 16%|█▌        | 16/100 [00:04<00:20,  4.10epoch/s, acc=-0.8, diff=0.012, grad=50.9, loss=7.3e+04, w=176]  \n",
      " 16%|█▌        | 16/100 [00:04<00:19,  4.38epoch/s, acc=-0.8, diff=0.0244, grad=56.3, loss=inf, w=157]  \n",
      " 16%|█▌        | 16/100 [00:04<00:19,  4.35epoch/s, acc=-0.8, diff=0.0194, grad=28.4, loss=inf, w=156]\n",
      " 16%|█▌        | 16/100 [00:04<00:21,  3.91epoch/s, acc=-0.8, diff=0.017, grad=32.7, loss=7.31e+04, w=167]\n",
      " 16%|█▌        | 16/100 [00:04<00:20,  4.08epoch/s, acc=-0.81, diff=0.0187, grad=48.7, loss=inf, w=139] \n",
      " 16%|█▌        | 16/100 [00:04<00:20,  4.07epoch/s, acc=-0.8, diff=0.0214, grad=35.1, loss=inf, w=153]  \n",
      " 16%|█▌        | 16/100 [00:04<00:21,  3.95epoch/s, acc=-0.81, diff=0.0142, grad=37.3, loss=7.31e+04, w=160]\n",
      " 16%|█▌        | 16/100 [00:04<00:20,  4.07epoch/s, acc=-0.8, diff=0.0139, grad=32.6, loss=inf, w=141]  \n",
      " 12%|█▏        | 12/100 [00:03<00:22,  3.94epoch/s, acc=-0.8, diff=0.081, grad=38.3, loss=inf, w=163]    \n",
      " 16%|█▌        | 16/100 [00:04<00:21,  3.88epoch/s, acc=-0.8, diff=0.0162, grad=33.2, loss=7.3e+04, w=166]\n",
      " 16%|█▌        | 16/100 [00:04<00:19,  4.20epoch/s, acc=-0.81, diff=0.0147, grad=35.6, loss=inf, w=130]\n",
      " 16%|█▌        | 16/100 [00:04<00:19,  4.21epoch/s, acc=-0.81, diff=0.0102, grad=46, loss=inf, w=140] \n",
      " 16%|█▌        | 16/100 [00:04<00:20,  4.01epoch/s, acc=-0.8, diff=0.025, grad=68, loss=7.31e+04, w=183]  \n",
      " 16%|█▌        | 16/100 [00:04<00:20,  4.09epoch/s, acc=-0.8, diff=0.0399, grad=43.7, loss=inf, w=124]  \n",
      " 12%|█▏        | 12/100 [00:03<00:20,  4.24epoch/s, acc=-0.8, diff=0.0995, grad=27.6, loss=inf, w=144]  \n",
      " 16%|█▌        | 16/100 [00:04<00:20,  4.20epoch/s, acc=-0.8, diff=0.0178, grad=21.9, loss=7.31e+04, w=158]\n",
      " 16%|█▌        | 16/100 [00:04<00:20,  4.18epoch/s, acc=-0.81, diff=0.0222, grad=34.2, loss=inf, w=135] \n",
      " 16%|█▌        | 16/100 [00:04<00:19,  4.27epoch/s, acc=-0.8, diff=0.0159, grad=44.6, loss=inf, w=158]     \n",
      " 16%|█▌        | 16/100 [00:04<00:19,  4.23epoch/s, acc=-0.8, diff=0.018, grad=19.5, loss=7.3e+04, w=159] \n",
      " 16%|█▌        | 16/100 [00:04<00:19,  4.23epoch/s, acc=-0.81, diff=0.0491, grad=16.9, loss=inf, w=134] \n",
      " 16%|█▌        | 16/100 [00:04<00:21,  3.96epoch/s, acc=-0.8, diff=0.0112, grad=7.17, loss=inf, w=147]  \n",
      " 12%|█▏        | 12/100 [00:03<00:20,  4.21epoch/s, acc=-0.8, diff=0.0727, grad=28.5, loss=7.37e+04, w=153]\n",
      " 20%|██        | 20/100 [00:05<00:20,  3.94epoch/s, acc=-0.81, diff=0.0109, grad=37.9, loss=inf, w=124]\n",
      " 16%|█▌        | 16/100 [00:04<00:20,  4.10epoch/s, acc=-0.8, diff=0.0196, grad=44.3, loss=inf, w=155]    \n",
      " 12%|█▏        | 12/100 [00:03<00:26,  3.31epoch/s, acc=-0.8, diff=0.0497, grad=16.6, loss=7.38e+04, w=149]\n",
      " 20%|██        | 20/100 [00:05<00:19,  4.17epoch/s, acc=-0.81, diff=0.0133, grad=21.2, loss=inf, w=131]\n",
      " 16%|█▌        | 16/100 [00:04<00:19,  4.25epoch/s, acc=-0.8, diff=0.022, grad=44.4, loss=inf, w=130]   \n",
      " 12%|█▏        | 12/100 [00:03<00:21,  4.01epoch/s, acc=-0.8, diff=0.0532, grad=19.2, loss=7.38e+04, w=147]\n",
      " 20%|██        | 20/100 [00:05<00:18,  4.29epoch/s, acc=-0.8, diff=0.036, grad=33.3, loss=inf, w=115]     \n",
      " 16%|█▌        | 16/100 [00:04<00:24,  3.37epoch/s, acc=-0.8, diff=0.0103, grad=51.8, loss=inf, w=122]   \n",
      " 12%|█▏        | 12/100 [00:03<00:26,  3.31epoch/s, acc=-0.8, diff=0.0832, grad=19.5, loss=7.37e+04, w=148]\n",
      " 16%|█▌        | 16/100 [00:05<00:25,  3.35epoch/s, acc=-0.81, diff=0.029, grad=15.5, loss=inf, w=113]    \n",
      " 16%|█▌        | 16/100 [00:04<00:21,  3.94epoch/s, acc=-0.8, diff=0.014, grad=47.2, loss=inf, w=117]    \n",
      " 16%|█▌        | 16/100 [00:05<00:21,  3.89epoch/s, acc=-0.8, diff=0.0111, grad=20.7, loss=7.3e+04, w=136] \n",
      " 16%|█▌        | 16/100 [00:04<00:19,  4.21epoch/s, acc=-0.8, diff=0.0179, grad=13.9, loss=inf, w=111]   \n",
      " 16%|█▌        | 16/100 [00:04<00:19,  4.20epoch/s, acc=-0.81, diff=0.0237, grad=28.2, loss=inf, w=110]   \n",
      " 16%|█▌        | 16/100 [00:04<00:26,  3.18epoch/s, acc=-0.81, diff=0.0191, grad=32.4, loss=7.3e+04, w=122]\n",
      " 16%|█▌        | 16/100 [00:04<00:19,  4.24epoch/s, acc=-0.8, diff=0.0246, grad=29.1, loss=inf, w=96.5]   \n",
      " 16%|█▌        | 16/100 [00:04<00:20,  4.12epoch/s, acc=-0.8, diff=0.0148, grad=32.6, loss=inf, w=99.8]  \n",
      " 16%|█▌        | 16/100 [00:04<00:19,  4.35epoch/s, acc=-0.8, diff=0.0159, grad=24.9, loss=7.3e+04, w=113] \n",
      " 20%|██        | 20/100 [00:06<00:29,  2.72epoch/s, acc=-0.81, diff=0.0192, grad=39.6, loss=inf, w=86]\n",
      " 16%|█▌        | 16/100 [00:05<00:23,  3.54epoch/s, acc=-0.8, diff=0.0113, grad=36.8, loss=inf, w=86.4] \n",
      " 16%|█▌        | 16/100 [00:04<00:20,  4.19epoch/s, acc=-0.81, diff=0.0129, grad=16.7, loss=7.32e+04, w=98]\n",
      " 16%|█▌        | 16/100 [00:04<00:20,  4.08epoch/s, acc=-0.81, diff=0.0436, grad=17.5, loss=inf, w=80]   \n",
      " 16%|█▌        | 16/100 [00:04<00:19,  4.25epoch/s, acc=-0.8, diff=0.0199, grad=16.6, loss=inf, w=77.3] \n",
      " 16%|█▌        | 16/100 [00:04<00:21,  3.84epoch/s, acc=-0.8, diff=0.0152, grad=22.6, loss=7.31e+04, w=86.3]\n",
      " 16%|█▌        | 16/100 [00:04<00:19,  4.41epoch/s, acc=-0.81, diff=0.0302, grad=18.1, loss=inf, w=66]    \n",
      " 16%|█▌        | 16/100 [00:04<00:19,  4.27epoch/s, acc=-0.8, diff=0.0142, grad=28, loss=inf, w=62.1]     \n",
      " 16%|█▌        | 16/100 [00:04<00:19,  4.26epoch/s, acc=-0.8, diff=0.0254, grad=22.1, loss=7.31e+04, w=69.3]\n",
      " 16%|█▌        | 16/100 [00:04<00:20,  4.12epoch/s, acc=-0.81, diff=0.0351, grad=13.9, loss=inf, w=56.5] \n"
     ]
    },
    {
     "data": {
      "image/png": "[encoded data removed]",
      "text/plain": [
       "<matplotlib.figure.Figure at 0x7f8dde3ff748>"
      ]
     },
     "metadata": {},
     "output_type": "display_data"
    }
   ],
   "source": [
    "#Logistic\n",
    "y_01 = helpers.y_to_01(np.array([y]).T)\n",
    "np.random.seed(1)\n",
    "w0 = np.zeros((X_p.shape[1], 1))#np.random.randn(X_p.shape[1], 1)\n",
    "model = implementation.reg_logistic_regression_newton_batch\n",
    "model_args = {'initial_w': w0, 'max_iters': 100, 'gamma': .5, 'debug': False, 'batch_size': 50000}\n",
    "#loss = model_logistic.reg_loss\n",
    "loss = model_linear.compute_accuracy_loss\n",
    "\n",
    "lambdas = np.logspace(-6, -3, 20)\n",
    "\n",
    "idx_min, rmse_all, lambdas = k_fold.cross_validation_select(X_p, y_01, model, loss, kw_model = model_args, seed = 1,\n",
    "                                                            k_fold = 3, lambdas = lambdas, do_plot = True, do_tqdm = False)"
   ]
  },
  {
   "cell_type": "code",
   "execution_count": 316,
   "metadata": {},
   "outputs": [
    {
     "name": "stdout",
     "output_type": "stream",
     "text": [
      "0.000233572146909\n"
     ]
    }
   ],
   "source": [
    "lambda_ = lambdas[idx_min]\n",
    "print(lambda_)"
   ]
  },
  {
   "cell_type": "code",
   "execution_count": null,
   "metadata": {},
   "outputs": [],
   "source": [
    "#w1, l = implementation.reg_logistic_regression(y_01, X_p, lambda_ = 0.1,\n",
    "#                                                     initial_w = w0, max_iters = 100, gamma = 1e-6, debug = False)"
   ]
  },
  {
   "cell_type": "code",
   "execution_count": 198,
   "metadata": {},
   "outputs": [
    {
     "name": "stderr",
     "output_type": "stream",
     "text": [
      " 83%|████████▎ | 250/300 [00:39<00:07,  6.67epoch/s, acc=-0.78, grad=869, loss=1.15e+05, w=2.54]     \n"
     ]
    }
   ],
   "source": [
    "w1, l = implementation.reg_logistic_regression_batch(y_01, X_p, lambda_ = 0.1,\n",
    "                                                     initial_w = w0, batch_size = 50000,\n",
    "                                                     max_iters = 300, gamma = 1e-5, debug = False)"
   ]
  },
  {
   "cell_type": "code",
   "execution_count": 336,
   "metadata": {},
   "outputs": [
    {
     "name": "stderr",
     "output_type": "stream",
     "text": [
      "  0%|          | 0/100 [00:00<?, ?epoch/s]/home/sergei/Documents/repos/git/EPFL/ML/Project1/src/scripts/model_logistic.py:12: RuntimeWarning: overflow encountered in exp\n",
      "  return -np.sum(np.multiply((tx @ w).flatten(), y.flatten())) + np.sum(np.log1p(np.exp(tx @ w)))\n",
      " 84%|████████▍ | 84/100 [00:33<00:05,  3.00epoch/s, acc=-0.81, diff=3.42e-05, grad=7.35, loss=inf, w=122]\n"
     ]
    }
   ],
   "source": [
    "np.random.seed(42)\n",
    "w2, l = implementation.reg_logistic_regression_newton_batch(y_01, X_p, lambda_ = 0.000233572146909,\n",
    "                                                     initial_w = w1, batch_size = 50000,\n",
    "                                                     max_iters = 100, gamma = .1, debug = False)"
   ]
  },
  {
   "cell_type": "code",
   "execution_count": 337,
   "metadata": {
    "collapsed": true
   },
   "outputs": [],
   "source": [
    "y_pred = proj1_helpers.predict_labels(w, X_t_p)"
   ]
  },
  {
   "cell_type": "code",
   "execution_count": 338,
   "metadata": {},
   "outputs": [],
   "source": [
    "proj1_helpers.create_csv_submission(ids_t, y_pred, output_path)"
   ]
  },
  {
   "cell_type": "code",
   "execution_count": null,
   "metadata": {
    "collapsed": true
   },
   "outputs": [],
   "source": [
    "tqdm.get_lock().locks = []"
   ]
  },
  {
   "cell_type": "code",
   "execution_count": 253,
   "metadata": {},
   "outputs": [
    {
     "data": {
      "text/plain": [
       "0.30083521341409764"
      ]
     },
     "execution_count": 253,
     "metadata": {},
     "output_type": "execute_result"
    }
   ],
   "source": [
    "np.mean(y_pred>0)"
   ]
  },
  {
   "cell_type": "code",
   "execution_count": null,
   "metadata": {
    "collapsed": true
   },
   "outputs": [],
   "source": []
  }
 ],
 "metadata": {
  "anaconda-cloud": {},
  "kernelspec": {
   "display_name": "Python 3",
   "language": "python",
   "name": "python3"
  },
  "language_info": {
   "codemirror_mode": {
    "name": "ipython",
    "version": 3
   },
   "file_extension": ".py",
   "mimetype": "text/x-python",
   "name": "python",
   "nbconvert_exporter": "python",
   "pygments_lexer": "ipython3",
   "version": "3.6.2"
  }
 },
 "nbformat": 4,
 "nbformat_minor": 1
}
