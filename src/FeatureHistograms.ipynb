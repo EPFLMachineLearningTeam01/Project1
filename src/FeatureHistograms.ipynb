{
 "cells": [
  {
   "cell_type": "code",
   "execution_count": null,
   "metadata": {
    "collapsed": true
   },
   "outputs": [],
   "source": [
    "# Imports\n",
    "import csv\n",
    "import importlib\n",
    "from scripts import proj1_helpers, implementation, helpers\n",
    "import numpy as np\n",
    "%matplotlib inline\n",
    "from matplotlib import pyplot as plt"
   ]
  },
  {
   "cell_type": "code",
   "execution_count": null,
   "metadata": {
    "collapsed": true
   },
   "outputs": [],
   "source": [
    "train_path = '../data/train.csv'"
   ]
  },
  {
   "cell_type": "code",
   "execution_count": null,
   "metadata": {
    "collapsed": true
   },
   "outputs": [],
   "source": [
    "header = None\n",
    "with open(train_path, newline='') as f:\n",
    "    reader = csv.reader(f)\n",
    "    for row in reader:\n",
    "        header = row[2:]\n",
    "        break\n",
    "y, X, ids = proj1_helpers.load_csv_data(train_path)"
   ]
  },
  {
   "cell_type": "code",
   "execution_count": null,
   "metadata": {},
   "outputs": [],
   "source": [
    "def do_hist_scatter(X, header, idx_x = None, idx_y = None, bins = 20):\n",
    "    N = X.shape[1]\n",
    "    if idx_x == None:\n",
    "        idx_x = range(N)\n",
    "    if idx_y == None:\n",
    "        idx_y = range(N)\n",
    "        \n",
    "    _, plots = plt.subplots(len(idx_x), len(idx_y), figsize=(15,15))\n",
    "    for x, i in enumerate(idx_x):\n",
    "        for y, j in enumerate(idx_y):\n",
    "            ax = plots[x][y]\n",
    "            ax.set_rasterized(True)\n",
    "            if i == j:\n",
    "                ax.hist(X[:,i], color='green', bins=bins, histtype='bar', align='mid')\n",
    "            else:\n",
    "                ax.scatter(X[:,j], X[:,i], c='blue', s=1)\n",
    "            if x == 0 or x == len(idx_x) - 1:\n",
    "                ax.xaxis.set_label_position('top' if x == 0 else 'bottom')\n",
    "                ax.set_xlabel(header[j])\n",
    "            if y == 0 or y == len(idx_y) - 1:\n",
    "                ax.yaxis.set_label_position('left' if y == 0 else 'right')\n",
    "                ax.set_ylabel(header[i])"
   ]
  },
  {
   "cell_type": "code",
   "execution_count": null,
   "metadata": {
    "collapsed": true
   },
   "outputs": [],
   "source": [
    "def get_ranges(N, k):\n",
    "    all_range = list(range(N))\n",
    "    n_intervals = N // k\n",
    "    if n_intervals * k < N:\n",
    "        n_intervals += 1\n",
    "    for i in range(n_intervals):\n",
    "        for j in range(n_intervals):\n",
    "            range_x = range(i * k, min(N, i * k + k))\n",
    "            range_y = range(j * k, min(N, j * k + k))\n",
    "            yield (range_x, range_y)"
   ]
  },
  {
   "cell_type": "code",
   "execution_count": null,
   "metadata": {},
   "outputs": [],
   "source": [
    "for i, (a, b) in enumerate(get_ranges(X.shape[1], 6)):\n",
    "    do_hist_scatter(X, header, idx_x = a, idx_y = b, bins = 15)\n",
    "    plt.savefig('./analysis/hist-scatter-' + str(i) + '.png')\n",
    "    plt.savefig('./analysis/hist-scatter-' + str(i) + '.pdf')"
   ]
  },
  {
   "cell_type": "code",
   "execution_count": null,
   "metadata": {
    "collapsed": true
   },
   "outputs": [],
   "source": [
    "def do_hist(X, header, shape = (None, None), bins = 20):\n",
    "    N = X.shape[1]\n",
    "    assert(shape[0] * shape[1] >= N)\n",
    "    _, plots = plt.subplots(shape[0], shape[1], figsize=(15,15))\n",
    "    for i in range(shape[0]):\n",
    "        for j in range(shape[1]):\n",
    "            n = i * shape[1] + j\n",
    "            if n >= N:\n",
    "                continue\n",
    "            ax = plots[i][j]\n",
    "            ax.hist(X[:,n], color='green', bins=bins, histtype='bar', align='mid')\n",
    "            ax.set_title(label = header[n], fontsize=7)\n",
    "            ax.get_yaxis().set_tick_params(which='both', direction='in')\n",
    "            ax.get_xaxis().set_tick_params(which='both', direction='in')"
   ]
  },
  {
   "cell_type": "code",
   "execution_count": null,
   "metadata": {},
   "outputs": [],
   "source": [
    "do_hist(X, header, shape=(6,5))\n",
    "plt.savefig('./analysis/hist.pdf')\n",
    "plt.savefig('./analysis/hist.png')"
   ]
  },
  {
   "cell_type": "code",
   "execution_count": null,
   "metadata": {
    "collapsed": true
   },
   "outputs": [],
   "source": []
  }
 ],
 "metadata": {
  "kernelspec": {
   "display_name": "Python 3",
   "language": "python",
   "name": "python3"
  },
  "language_info": {
   "codemirror_mode": {
    "name": "ipython",
    "version": 3
   },
   "file_extension": ".py",
   "mimetype": "text/x-python",
   "name": "python",
   "nbconvert_exporter": "python",
   "pygments_lexer": "ipython3",
   "version": "3.6.2"
  }
 },
 "nbformat": 4,
 "nbformat_minor": 2
}
