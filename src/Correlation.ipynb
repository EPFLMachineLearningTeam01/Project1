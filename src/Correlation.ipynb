{
 "cells": [
  {
   "cell_type": "code",
   "execution_count": 4,
   "metadata": {
    "collapsed": true
   },
   "outputs": [],
   "source": [
    "import sys\n",
    "sys.path.append(\"./scripts\")\n",
    "from helpers import *\n",
    "from proj1_helpers import *\n",
    "from feature_processing import *\n",
    "import numpy as np\n",
    "import csv\n",
    "from math import sqrt\n",
    "from matplotlib import pyplot as plt"
   ]
  },
  {
   "cell_type": "markdown",
   "metadata": {},
   "source": [
    "Prepare the data by standardizing and Imputing Missing data with Mean"
   ]
  },
  {
   "cell_type": "code",
   "execution_count": 12,
   "metadata": {
    "collapsed": true
   },
   "outputs": [],
   "source": [
    "def prepare_data(dataPath):\n",
    "\n",
    "    yb , input_data, ids = load_csv_data(dataPath) # load data\n",
    "    tx,_ =  process_X(input_data,2) #feature standardization\n",
    "    \n",
    "    return  tx[:,1:31]\n"
   ]
  },
  {
   "cell_type": "markdown",
   "metadata": {},
   "source": [
    "Compute the Correalation Matrix  ; Corr[IJ] = (E[IJ] - E[I]E[J])/sqrt(Var(I)Var(J))"
   ]
  },
  {
   "cell_type": "code",
   "execution_count": 6,
   "metadata": {
    "collapsed": true
   },
   "outputs": [],
   "source": [
    "def compute_correlation(data):\n",
    "\n",
    "    dimension = data.shape[1] # get the number of columns in the data\n",
    "    correlation_matrix  = np.zeros((dimension, dimension)) # construct a matrix to save the correlation coeff inside\n",
    "    for i in range(0, dimension): # iterate over all columns\n",
    "        for j in range(0, dimension): # iterate over all columns\n",
    "           \n",
    "            col_i = data[:,i] # get the ith column\n",
    "            col_j = data[:,j] # get the jth column\n",
    "            vecIJ = np.multiply(col_i,col_j) # compute dot product of both columns\n",
    "            mean_IJ = np.mean(vecIJ) # compute the expected value of the joint density of the columns\n",
    "            mean_col_i = np.mean(col_i) # expected value of column i\n",
    "            mean_col_j = np.mean(col_j) # expected value of column j\n",
    "            variance_col_i = np.var(col_i) # variance of column i\n",
    "            variance_col_j = np.var(col_j) # variance of column j\n",
    "            # hence Corr(I,J) =  (E(IJ) - E(I)E(J)) / radical (Var(I)Var(J))\n",
    "            correlation_coefficient = float(mean_IJ  - (mean_col_i * mean_col_j))/sqrt(variance_col_i * variance_col_j)\n",
    "            correlation_matrix[i][j] = correlation_coefficient\n",
    "            correlation_matrix[j][i] = correlation_coefficient\n",
    "\n",
    "\n",
    "    return correlation_matrix"
   ]
  },
  {
   "cell_type": "markdown",
   "metadata": {},
   "source": [
    "Change format of result to save to csv folder"
   ]
  },
  {
   "cell_type": "code",
   "execution_count": 7,
   "metadata": {
    "collapsed": true
   },
   "outputs": [],
   "source": [
    "def parse_and_save(result,labels):\n",
    "    \n",
    "    # change each row in a correlation matrix into a line of csv\n",
    "    parse = []\n",
    "    for i in range(0,result.shape[0]):\n",
    "        line = labels[i]\n",
    "        for j in range(0,result.shape[1]):\n",
    "            line = line + \",\" + str(result[i][j])\n",
    "        parse.append(line)\n",
    "       \n",
    "    organizeLabels = \"Labels\"\n",
    "    for i in range(0,labels.shape[0]):\n",
    "             organizeLabels= organizeLabels + \",\" + str(labels[i])\n",
    "    \n",
    "    # write result to csv file\n",
    "    with open('./analysis/correlation.csv','w') as file:\n",
    "        \n",
    "        file.write(organizeLabels)\n",
    "        file.write('\\n')\n",
    "                \n",
    "        for line in parse:\n",
    "            file.write(line)\n",
    "            file.write('\\n')\n",
    "    "
   ]
  },
  {
   "cell_type": "markdown",
   "metadata": {},
   "source": [
    "To visualize a heatmap plot"
   ]
  },
  {
   "cell_type": "code",
   "execution_count": 8,
   "metadata": {
    "collapsed": true
   },
   "outputs": [],
   "source": [
    "import matplotlib.pyplot as plt\n",
    "def plot_correlation(correlation_matrix,labels,filePath):\n",
    "\n",
    "    plt.figure(figsize=(12,12))\n",
    "    plt.imshow(correlation_matrix, cmap='RdYlGn', interpolation='none', aspect='auto')\n",
    "    plt.colorbar()\n",
    "    plt.xticks(range(len(labels)), labels, rotation='vertical')\n",
    "    plt.yticks(range(len(labels)), labels);\n",
    "    plt.suptitle('Higgs Bosson Correlation Heat Map', fontsize=15, fontweight='bold')\n",
    "    plt.savefig(filePath)\n",
    "    plt.close('all')"
   ]
  },
  {
   "cell_type": "code",
   "execution_count": 14,
   "metadata": {
    "collapsed": true
   },
   "outputs": [],
   "source": [
    "def run():\n",
    "    \n",
    "    dataPath = '../data/train.csv'\n",
    "    \n",
    "    features = get_header(dataPath)\n",
    "        \n",
    "    data = prepare_data(dataPath)  \n",
    "   \n",
    "    \n",
    "    correlation_matrix = compute_correlation(data)\n",
    "    fileName = \"./analysis/correlation.png\"\n",
    "    plot_correlation(correlation_matrix,features,fileName)  \n",
    "   "
   ]
  },
  {
   "cell_type": "code",
   "execution_count": 15,
   "metadata": {},
   "outputs": [
    {
     "name": "stderr",
     "output_type": "stream",
     "text": [
      "100%|██████████| 5/5 [00:02<00:00,  2.00it/s]\n"
     ]
    }
   ],
   "source": [
    "run()"
   ]
  },
  {
   "cell_type": "code",
   "execution_count": null,
   "metadata": {
    "collapsed": true
   },
   "outputs": [],
   "source": []
  }
 ],
 "metadata": {
  "kernelspec": {
   "display_name": "Python 3",
   "language": "python",
   "name": "python3"
  },
  "language_info": {
   "codemirror_mode": {
    "name": "ipython",
    "version": 3
   },
   "file_extension": ".py",
   "mimetype": "text/x-python",
   "name": "python",
   "nbconvert_exporter": "python",
   "pygments_lexer": "ipython3",
   "version": "3.6.1"
  }
 },
 "nbformat": 4,
 "nbformat_minor": 2
}
