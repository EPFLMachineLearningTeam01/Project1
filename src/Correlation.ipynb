{
 "cells": [
  {
   "cell_type": "code",
   "execution_count": 1,
   "metadata": {
    "collapsed": true
   },
   "outputs": [],
   "source": [
    "import sys\n",
    "sys.path.append(\"./scripts\")\n",
    "from helpers import *\n",
    "from proj1_helpers import *\n",
    "import numpy as np\n",
    "import csv\n",
    "from math import sqrt\n",
    "from matplotlib import pyplot as plt"
   ]
  },
  {
   "cell_type": "markdown",
   "metadata": {},
   "source": [
    "Prepare the data by standardizing and Imputing Missing data with Mean"
   ]
  },
  {
   "cell_type": "code",
   "execution_count": 2,
   "metadata": {
    "collapsed": true
   },
   "outputs": [],
   "source": [
    "def prepare_data(dataPath):\n",
    "\n",
    "    yb , input_data, ids = load_csv_data(dataPath) # load data\n",
    "    # replace missing data with mean\n",
    "    input_data[input_data == -999]  = None\n",
    "    col_mean = np.nanmean(input_data)\n",
    "    emptyIndex = np.isnan(input_data)\n",
    "    input_data[emptyIndex] = col_mean\n",
    "    # call build model to construct the matrix then remove the column of one's in the feature set\n",
    "    y, tx = build_model_data(input_data,yb)\n",
    "    tx = np.delete(tx, 0, axis = 1)\n",
    "    # standardize the data\n",
    "    standardized_data,mean,std = standardize(tx)\n",
    "    return  standardized_data\n"
   ]
  },
  {
   "cell_type": "markdown",
   "metadata": {},
   "source": [
    "Compute the Correalation Matrix  ; Corr[IJ] = (E[IJ] - E[I]E[J])/sqrt(Var(I)Var(J))"
   ]
  },
  {
   "cell_type": "code",
   "execution_count": 28,
   "metadata": {
    "collapsed": true
   },
   "outputs": [],
   "source": [
    "def compute_correlation(data):\n",
    "\n",
    "    dimension = data.shape[1] # get the number of columns in the data\n",
    "    correlation_matrix  = np.zeros((dimension, dimension)) # construct a matrix to save the correlation coeff inside\n",
    "    for i in range(0, dimension): # iterate over all columns\n",
    "        for j in range(0, dimension): # iterate over all columns\n",
    "            if i==j : # if we are in the same columns then same feature so correlation = 1\n",
    "                correlation_matrix[i][j]=1\n",
    "            else : \n",
    "                # to reduce number of computations since corr(feature(I)feature(j)) = corr(feature(J)feature(I))\n",
    "                if correlation_matrix[i][j] == 0 :  \n",
    "                    col_i = data[:,i] # get the ith column\n",
    "                    col_j = data[:,j] # get the jth column\n",
    "                    vecIJ = np.multiply(col_i,col_j) # compute dot product of both columns\n",
    "                    mean_IJ = np.mean(vecIJ) # compute the expected value of the joint density of the columns\n",
    "                    mean_col_i = np.mean(col_i) # expected value of column i\n",
    "                    mean_col_j = np.mean(col_j) # expected value of column j\n",
    "                    variance_col_i = np.var(col_i) # variance of column i\n",
    "                    variance_col_j = np.var(col_j) # variance of column j\n",
    "                    # hence Corr(I,J) =  (E(IJ) - E(I)E(J)) / radical (Var(I)Var(J))\n",
    "                    correlation_coefficient = (mean_IJ  - (mean_col_i * mean_col_j))/sqrt(variance_col_i * variance_col_j)\n",
    "                    correlation_matrix[i][j] = correlation_coefficient\n",
    "                    correlation_matrix[j][i] = correlation_coefficient\n",
    "\n",
    "\n",
    "    return correlation_matrix"
   ]
  },
  {
   "cell_type": "markdown",
   "metadata": {},
   "source": [
    "Change format of result to save to csv folder"
   ]
  },
  {
   "cell_type": "code",
   "execution_count": 22,
   "metadata": {
    "collapsed": true
   },
   "outputs": [],
   "source": [
    "def parse_and_save(result,labels):\n",
    "    \n",
    "    # change each row in a correlation matrix into a line of csv\n",
    "    parse = []\n",
    "    for i in range(0,result.shape[0]):\n",
    "        line = labels[i]\n",
    "        for j in range(0,result.shape[1]):\n",
    "            line = line + \",\" + str(result[i][j])\n",
    "        parse.append(line)\n",
    "       \n",
    "    organizeLabels = \"Labels\"\n",
    "    for i in range(0,labels.shape[0]):\n",
    "             organizeLabels= organizeLabels + \",\" + str(labels[i])\n",
    "    \n",
    "    # write result to csv file\n",
    "    with open('./analysis/correlation.csv','w') as file:\n",
    "        \n",
    "        file.write(organizeLabels)\n",
    "        file.write('\\n')\n",
    "                \n",
    "        for line in parse:\n",
    "            file.write(line)\n",
    "            file.write('\\n')\n",
    "    "
   ]
  },
  {
   "cell_type": "markdown",
   "metadata": {},
   "source": [
    "To visualize a heatmap plot"
   ]
  },
  {
   "cell_type": "code",
   "execution_count": 38,
   "metadata": {
    "collapsed": true
   },
   "outputs": [],
   "source": [
    "import matplotlib.pyplot as plt\n",
    "def plot_correlation(correlation_matrix,labels,filePath):\n",
    "\n",
    "    plt.figure(figsize=(12,12))\n",
    "    plt.imshow(correlation_matrix, cmap='RdYlGn', interpolation='none', aspect='auto')\n",
    "    plt.colorbar()\n",
    "    plt.xticks(range(len(labels)), labels, rotation='vertical')\n",
    "    plt.yticks(range(len(labels)), labels);\n",
    "    plt.suptitle('Higgs Bosson Correlation Heat Map', fontsize=15, fontweight='bold')\n",
    "    plt.savefig(filePath)\n",
    "    plt.close('all')"
   ]
  },
  {
   "cell_type": "code",
   "execution_count": 41,
   "metadata": {},
   "outputs": [],
   "source": [
    "def run():\n",
    "    dataPath = '../data/train.csv'\n",
    "    \n",
    "    \n",
    "   # data = np.delete(data,14, axis = 1)\n",
    "   # data = np.delete(data,14, axis = 1)\n",
    "   # data = np.delete(data,15, axis = 1)\n",
    "   # data = np.delete(data,15, axis = 1)\n",
    "   # data = np.delete(data,16, axis = 1)\n",
    "\n",
    "    with open (dataPath, \"r\") as csvfile:\n",
    "            reader = csv.reader(csvfile)\n",
    "            features= next(reader)\n",
    "\n",
    "    features = np.asarray(features) \n",
    "    features = np.delete(features,0)\n",
    "    features = np.delete(features,0)\n",
    "  \n",
    "    for power in range(6,13):\n",
    "        \n",
    "        data = prepare_data(dataPath)\n",
    "        data[:,14] =  np.power(data[:,14],power)\n",
    "        data[:,15] =  np.power(data[:,15],power)\n",
    "        data[:,17] =  np.power(data[:,17],power)\n",
    "        data[:,18] =  np.power(data[:,18],power)\n",
    "        data[:,20] =  np.power(data[:,20],power)\n",
    "        correlation_matrix = compute_correlation(data)\n",
    "        fileName = \"./analysis/correlation\" + str(power) + \".pdf\"\n",
    "        plot_correlation(correlation_matrix,features,fileName)    \n",
    "        \n",
    "   \n",
    "   # features = np.delete(features,14)\n",
    "   # features = np.delete(features,14)\n",
    "   # features = np.delete(features,15)\n",
    "   # features = np.delete(features,15)\n",
    "   # features = np.delete(features,16) \n",
    "  \n",
    "        \n",
    "   "
   ]
  },
  {
   "cell_type": "code",
   "execution_count": 42,
   "metadata": {},
   "outputs": [],
   "source": [
    "run()"
   ]
  },
  {
   "cell_type": "code",
   "execution_count": null,
   "metadata": {
    "collapsed": true
   },
   "outputs": [],
   "source": []
  }
 ],
 "metadata": {
  "kernelspec": {
   "display_name": "Python 3",
   "language": "python",
   "name": "python3"
  },
  "language_info": {
   "codemirror_mode": {
    "name": "ipython",
    "version": 3
   },
   "file_extension": ".py",
   "mimetype": "text/x-python",
   "name": "python",
   "nbconvert_exporter": "python",
   "pygments_lexer": "ipython3",
   "version": "3.6.1"
  }
 },
 "nbformat": 4,
 "nbformat_minor": 2
}
