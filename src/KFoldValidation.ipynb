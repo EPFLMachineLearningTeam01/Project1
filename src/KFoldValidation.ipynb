{
 "cells": [
  {
   "cell_type": "code",
   "execution_count": 3,
   "metadata": {},
   "outputs": [
    {
     "name": "stdout",
     "output_type": "stream",
     "text": [
      "The autoreload extension is already loaded. To reload it, use:\n",
      "  %reload_ext autoreload\n"
     ]
    }
   ],
   "source": [
    "# Useful starting lines\n",
    "import sys\n",
    "import os\n",
    "sys.path.insert(0, os.path.realpath('./scripts'))\n",
    "\n",
    "\n",
    "from scripts import proj1_helpers, implementation, helpers\n",
    "\n",
    "%matplotlib inline\n",
    "from tqdm import tqdm\n",
    "import numpy as np\n",
    "import matplotlib.pyplot as plt\n",
    "%load_ext autoreload\n",
    "%autoreload 2"
   ]
  },
  {
   "cell_type": "markdown",
   "metadata": {},
   "source": [
    "# Cross-Validation and Bias-Variance decomposition\n",
    "## Cross-Validation\n",
    "Implementing 4-fold cross-validation below:"
   ]
  },
  {
   "cell_type": "code",
   "execution_count": 4,
   "metadata": {
    "scrolled": false
   },
   "outputs": [],
   "source": [
    "from proj1_helpers import load_csv_data\n",
    "\n",
    "train_path = './data/train.csv'\n",
    "\n",
    "# load dataset\n",
    "y,x,ids = load_csv_data(train_path)"
   ]
  },
  {
   "cell_type": "code",
   "execution_count": null,
   "metadata": {},
   "outputs": [],
   "source": []
  },
  {
   "cell_type": "code",
   "execution_count": 5,
   "metadata": {
    "collapsed": true
   },
   "outputs": [],
   "source": [
    "def build_k_indices(y, k_fold, seed):\n",
    "    \"\"\"build k indices for k-fold.\"\"\"\n",
    "    num_row = y.shape[0]\n",
    "    interval = int(num_row / k_fold)\n",
    "    np.random.seed(seed)\n",
    "    indices = np.random.permutation(num_row)\n",
    "    k_indices = [indices[k * interval: (k + 1) * interval]\n",
    "                 for k in range(k_fold)]\n",
    "    return np.array(k_indices)"
   ]
  },
  {
   "cell_type": "code",
   "execution_count": 6,
   "metadata": {},
   "outputs": [
    {
     "name": "stdout",
     "output_type": "stream",
     "text": [
      "(250000,) 249997\n"
     ]
    }
   ],
   "source": [
    "print(y.shape, (lambda x: x[0] * x[1])(build_k_indices(y, 11, 1).shape))"
   ]
  },
  {
   "cell_type": "code",
   "execution_count": 7,
   "metadata": {},
   "outputs": [],
   "source": [
    "from costs import compute_mse\n",
    "from ridge_regression import ridge_regression\n",
    "#from build_polynomial import build_poly\n",
    "from helpers import build_model_data\n",
    "\n",
    "def cross_validation(y, x, k_indices, k, lambda_, degree):\n",
    "    \"\"\"return the loss of ridge regression.\"\"\"\n",
    "\n",
    "    # building polynomial matrix for whole dataset\n",
    "    #x_poly = build_poly(x, degree)\n",
    "    y,tx=build_model_data(x,y)\n",
    "    \n",
    "    \n",
    "    # indices for test\n",
    "    idx_te = k_indices[k]\n",
    "    \n",
    "    # indices for train\n",
    "    idx_tr = k_indices[np.arange(len(k_indices)) != k][0]\n",
    "    \n",
    "    # x data: train/test\n",
    "    x_poly_tr = tx[idx_tr, :]\n",
    "    x_poly_te = tx[idx_te, :]\n",
    "    \n",
    "    # y data: train/test\n",
    "    y_tr = y[idx_tr]\n",
    "    y_te = y[idx_te]\n",
    "  \n",
    "    # training ridge regression\n",
    "    weights = ridge_regression(y_tr, x_poly_tr, lambda_)\n",
    "\n",
    "    # computing losses\n",
    "    loss_tr = compute_mse(y_tr, x_poly_tr, weights)\n",
    "    loss_te = compute_mse(y_te, x_poly_te, weights)\n",
    "    \n",
    "    return loss_tr, loss_te"
   ]
  },
  {
   "cell_type": "code",
   "execution_count": 13,
   "metadata": {},
   "outputs": [
    {
     "name": "stderr",
     "output_type": "stream",
     "text": [
      "100%|██████████| 30/30 [00:09<00:00,  3.18it/s]\n"
     ]
    },
    {
     "data": {
      "image/png": "[encoded data removed]",
      "text/plain": [
       "<matplotlib.figure.Figure at 0x7fe2bb654c88>"
      ]
     },
     "metadata": {},
     "output_type": "display_data"
    }
   ],
   "source": [
    "from plots import cross_validation_visualization\n",
    "\n",
    "def cross_validation_demo():\n",
    "    seed = 2\n",
    "    degree = 7\n",
    "    k_fold = 10\n",
    "    lambdas = np.logspace(-4, 0, 30)\n",
    "    # split data in k fold\n",
    "    k_indices = build_k_indices(y, k_fold, seed)\n",
    "    # define lists to store the loss of training data and test data\n",
    "    rmse_tr, rmse_te = [], []\n",
    "    rmse = [rmse_tr, rmse_te]\n",
    "    rmse_all = [[], []]\n",
    "    \n",
    "    for lambda_ in tqdm(lambdas):\n",
    "        rmse_ = [[], []]\n",
    "        for k in range(k_fold):\n",
    "            [rmse_[i].append(x) for i, x in\n",
    "             enumerate(cross_validation(y, x, k_indices, k, lambda_, degree))]\n",
    "        [rmse[i].append(np.mean(x)) for (i, x) in enumerate(rmse_)]\n",
    "        [rmse_all[i].append(x) for (i, x) in enumerate(rmse_)]\n",
    "    \n",
    "    all_data = [np.array(rmse_all[0]).T, np.array(rmse_all[1]).T]\n",
    "    \n",
    "    cross_validation_visualization(lambdas, rmse_tr, rmse_te, all_data = all_data)\n",
    "\n",
    "cross_validation_demo()"
   ]
  },
  {
   "cell_type": "markdown",
   "metadata": {},
   "source": [
    "### Model selection"
   ]
  },
  {
   "cell_type": "code",
   "execution_count": 9,
   "metadata": {
    "collapsed": true
   },
   "outputs": [],
   "source": [
    "from plots import cross_validation_visualization\n",
    "\n",
    "def cross_validation_select(seed, degree, k_fold):\n",
    "    lambdas = np.logspace(-4, 0, 30)\n",
    "    # split data in k fold\n",
    "    k_indices = build_k_indices(y, k_fold, seed)\n",
    "    # define lists to store the loss of training data and test data\n",
    "    rmse_tr, rmse_te = [], []\n",
    "    rmse = [rmse_tr, rmse_te]\n",
    "    rmse_all = [[], []]\n",
    "    \n",
    "    for lambda_ in lambdas:\n",
    "        rmse_ = [[], []]\n",
    "        for k in range(k_fold):\n",
    "            [rmse_[i].append(x) for i, x in\n",
    "             enumerate(cross_validation(y, x, k_indices, k, lambda_, degree))]\n",
    "        [rmse[i].append(np.mean(x)) for (i, x) in enumerate(rmse_)]\n",
    "        [rmse_all[i].append(x) for (i, x) in enumerate(rmse_)]\n",
    "    \n",
    "    idx_min = np.argmin(rmse_te)\n",
    "    return idx_min, rmse_all, lambdas"
   ]
  },
  {
   "cell_type": "code",
   "execution_count": 19,
   "metadata": {},
   "outputs": [
    {
     "name": "stdout",
     "output_type": "stream",
     "text": [
      "[  1.00000000e-04   1.37382380e-04   1.88739182e-04   2.59294380e-04\n",
      "   3.56224789e-04   4.89390092e-04   6.72335754e-04   9.23670857e-04\n",
      "   1.26896100e-03   1.74332882e-03   2.39502662e-03   3.29034456e-03\n",
      "   4.52035366e-03   6.21016942e-03   8.53167852e-03   1.17210230e-02\n",
      "   1.61026203e-02   2.21221629e-02   3.03919538e-02   4.17531894e-02\n",
      "   5.73615251e-02   7.88046282e-02   1.08263673e-01   1.48735211e-01\n",
      "   2.04335972e-01   2.80721620e-01   3.85662042e-01   5.29831691e-01\n",
      "   7.27895384e-01   1.00000000e+00] 0 0.0001\n",
      "0.0001\n",
      "Degree 0 Lambda 0.00010 Test loss 0.340 +- 0.001 Train loss 0.339 +- 0.000\n",
      "[  1.00000000e-04   1.37382380e-04   1.88739182e-04   2.59294380e-04\n",
      "   3.56224789e-04   4.89390092e-04   6.72335754e-04   9.23670857e-04\n",
      "   1.26896100e-03   1.74332882e-03   2.39502662e-03   3.29034456e-03\n",
      "   4.52035366e-03   6.21016942e-03   8.53167852e-03   1.17210230e-02\n",
      "   1.61026203e-02   2.21221629e-02   3.03919538e-02   4.17531894e-02\n",
      "   5.73615251e-02   7.88046282e-02   1.08263673e-01   1.48735211e-01\n",
      "   2.04335972e-01   2.80721620e-01   3.85662042e-01   5.29831691e-01\n",
      "   7.27895384e-01   1.00000000e+00] 0 0.0001\n",
      "0.0001\n",
      "Degree 1 Lambda 0.00010 Test loss 0.340 +- 0.001 Train loss 0.339 +- 0.000\n"
     ]
    },
    {
     "ename": "KeyboardInterrupt",
     "evalue": "",
     "output_type": "error",
     "traceback": [
      "\u001b[0;31m---------------------------------------------------------------------------\u001b[0m",
      "\u001b[0;31mKeyboardInterrupt\u001b[0m                         Traceback (most recent call last)",
      "\u001b[0;32m<ipython-input-19-1cb55f876a78>\u001b[0m in \u001b[0;36m<module>\u001b[0;34m()\u001b[0m\n\u001b[1;32m     29\u001b[0m     \u001b[0mplt\u001b[0m\u001b[0;34m.\u001b[0m\u001b[0mshow\u001b[0m\u001b[0;34m(\u001b[0m\u001b[0;34m)\u001b[0m\u001b[0;34m\u001b[0m\u001b[0m\n\u001b[1;32m     30\u001b[0m \u001b[0;34m\u001b[0m\u001b[0m\n\u001b[0;32m---> 31\u001b[0;31m \u001b[0mget_best_models\u001b[0m\u001b[0;34m(\u001b[0m\u001b[0mnp\u001b[0m\u001b[0;34m.\u001b[0m\u001b[0marange\u001b[0m\u001b[0;34m(\u001b[0m\u001b[0;36m10\u001b[0m\u001b[0;34m)\u001b[0m\u001b[0;34m,\u001b[0m \u001b[0;36m2\u001b[0m\u001b[0;34m,\u001b[0m \u001b[0;36m10\u001b[0m\u001b[0;34m)\u001b[0m\u001b[0;34m\u001b[0m\u001b[0m\n\u001b[0m",
      "\u001b[0;32m<ipython-input-19-1cb55f876a78>\u001b[0m in \u001b[0;36mget_best_models\u001b[0;34m(degrees, seed, k_fold)\u001b[0m\n\u001b[1;32m      6\u001b[0m     \u001b[0mte_losses_std\u001b[0m \u001b[0;34m=\u001b[0m \u001b[0;34m[\u001b[0m\u001b[0;34m]\u001b[0m\u001b[0;34m\u001b[0m\u001b[0m\n\u001b[1;32m      7\u001b[0m     \u001b[0;32mfor\u001b[0m \u001b[0mdegree\u001b[0m \u001b[0;32min\u001b[0m \u001b[0mdegrees\u001b[0m\u001b[0;34m:\u001b[0m\u001b[0;34m\u001b[0m\u001b[0m\n\u001b[0;32m----> 8\u001b[0;31m         \u001b[0midx_min\u001b[0m\u001b[0;34m,\u001b[0m \u001b[0mrmse_all\u001b[0m\u001b[0;34m,\u001b[0m \u001b[0mlambdas\u001b[0m \u001b[0;34m=\u001b[0m \u001b[0mcross_validation_select\u001b[0m\u001b[0;34m(\u001b[0m\u001b[0mseed\u001b[0m\u001b[0;34m,\u001b[0m \u001b[0mdegree\u001b[0m\u001b[0;34m,\u001b[0m \u001b[0mk_fold\u001b[0m\u001b[0;34m)\u001b[0m\u001b[0;34m\u001b[0m\u001b[0m\n\u001b[0m\u001b[1;32m      9\u001b[0m         \u001b[0mprint\u001b[0m\u001b[0;34m(\u001b[0m\u001b[0mlambdas\u001b[0m\u001b[0;34m,\u001b[0m\u001b[0midx_min\u001b[0m\u001b[0;34m,\u001b[0m\u001b[0mlambdas\u001b[0m\u001b[0;34m[\u001b[0m\u001b[0;36m0\u001b[0m\u001b[0;34m]\u001b[0m\u001b[0;34m)\u001b[0m\u001b[0;34m;\u001b[0m\u001b[0;34m\u001b[0m\u001b[0m\n\u001b[1;32m     10\u001b[0m         \u001b[0mlambda_best\u001b[0m \u001b[0;34m=\u001b[0m \u001b[0mlambdas\u001b[0m\u001b[0;34m[\u001b[0m\u001b[0midx_min\u001b[0m\u001b[0;34m]\u001b[0m\u001b[0;34m\u001b[0m\u001b[0m\n",
      "\u001b[0;32m<ipython-input-9-02825d2b5d3c>\u001b[0m in \u001b[0;36mcross_validation_select\u001b[0;34m(seed, degree, k_fold)\u001b[0m\n\u001b[1;32m     14\u001b[0m         \u001b[0;32mfor\u001b[0m \u001b[0mk\u001b[0m \u001b[0;32min\u001b[0m \u001b[0mrange\u001b[0m\u001b[0;34m(\u001b[0m\u001b[0mk_fold\u001b[0m\u001b[0;34m)\u001b[0m\u001b[0;34m:\u001b[0m\u001b[0;34m\u001b[0m\u001b[0m\n\u001b[1;32m     15\u001b[0m             [rmse_[i].append(x) for i, x in\n\u001b[0;32m---> 16\u001b[0;31m              enumerate(cross_validation(y, x, k_indices, k, lambda_, degree))]\n\u001b[0m\u001b[1;32m     17\u001b[0m         \u001b[0;34m[\u001b[0m\u001b[0mrmse\u001b[0m\u001b[0;34m[\u001b[0m\u001b[0mi\u001b[0m\u001b[0;34m]\u001b[0m\u001b[0;34m.\u001b[0m\u001b[0mappend\u001b[0m\u001b[0;34m(\u001b[0m\u001b[0mnp\u001b[0m\u001b[0;34m.\u001b[0m\u001b[0mmean\u001b[0m\u001b[0;34m(\u001b[0m\u001b[0mx\u001b[0m\u001b[0;34m)\u001b[0m\u001b[0;34m)\u001b[0m \u001b[0;32mfor\u001b[0m \u001b[0;34m(\u001b[0m\u001b[0mi\u001b[0m\u001b[0;34m,\u001b[0m \u001b[0mx\u001b[0m\u001b[0;34m)\u001b[0m \u001b[0;32min\u001b[0m \u001b[0menumerate\u001b[0m\u001b[0;34m(\u001b[0m\u001b[0mrmse_\u001b[0m\u001b[0;34m)\u001b[0m\u001b[0;34m]\u001b[0m\u001b[0;34m\u001b[0m\u001b[0m\n\u001b[1;32m     18\u001b[0m         \u001b[0;34m[\u001b[0m\u001b[0mrmse_all\u001b[0m\u001b[0;34m[\u001b[0m\u001b[0mi\u001b[0m\u001b[0;34m]\u001b[0m\u001b[0;34m.\u001b[0m\u001b[0mappend\u001b[0m\u001b[0;34m(\u001b[0m\u001b[0mx\u001b[0m\u001b[0;34m)\u001b[0m \u001b[0;32mfor\u001b[0m \u001b[0;34m(\u001b[0m\u001b[0mi\u001b[0m\u001b[0;34m,\u001b[0m \u001b[0mx\u001b[0m\u001b[0;34m)\u001b[0m \u001b[0;32min\u001b[0m \u001b[0menumerate\u001b[0m\u001b[0;34m(\u001b[0m\u001b[0mrmse_\u001b[0m\u001b[0;34m)\u001b[0m\u001b[0;34m]\u001b[0m\u001b[0;34m\u001b[0m\u001b[0m\n",
      "\u001b[0;32m<ipython-input-7-48507bd1d6d1>\u001b[0m in \u001b[0;36mcross_validation\u001b[0;34m(y, x, k_indices, k, lambda_, degree)\u001b[0m\n\u001b[1;32m     31\u001b[0m     \u001b[0;31m# computing losses\u001b[0m\u001b[0;34m\u001b[0m\u001b[0;34m\u001b[0m\u001b[0m\n\u001b[1;32m     32\u001b[0m     \u001b[0mloss_tr\u001b[0m \u001b[0;34m=\u001b[0m \u001b[0mcompute_mse\u001b[0m\u001b[0;34m(\u001b[0m\u001b[0my_tr\u001b[0m\u001b[0;34m,\u001b[0m \u001b[0mx_poly_tr\u001b[0m\u001b[0;34m,\u001b[0m \u001b[0mweights\u001b[0m\u001b[0;34m)\u001b[0m\u001b[0;34m\u001b[0m\u001b[0m\n\u001b[0;32m---> 33\u001b[0;31m     \u001b[0mloss_te\u001b[0m \u001b[0;34m=\u001b[0m \u001b[0mcompute_mse\u001b[0m\u001b[0;34m(\u001b[0m\u001b[0my_te\u001b[0m\u001b[0;34m,\u001b[0m \u001b[0mx_poly_te\u001b[0m\u001b[0;34m,\u001b[0m \u001b[0mweights\u001b[0m\u001b[0;34m)\u001b[0m\u001b[0;34m\u001b[0m\u001b[0m\n\u001b[0m\u001b[1;32m     34\u001b[0m \u001b[0;34m\u001b[0m\u001b[0m\n\u001b[1;32m     35\u001b[0m     \u001b[0;32mreturn\u001b[0m \u001b[0mloss_tr\u001b[0m\u001b[0;34m,\u001b[0m \u001b[0mloss_te\u001b[0m\u001b[0;34m\u001b[0m\u001b[0m\n",
      "\u001b[0;32m~/Desktop/ml_project/scripts/costs.py\u001b[0m in \u001b[0;36mcompute_mse\u001b[0;34m(y, tx, w)\u001b[0m\n\u001b[1;32m      5\u001b[0m \u001b[0;32mdef\u001b[0m \u001b[0mcompute_mse\u001b[0m\u001b[0;34m(\u001b[0m\u001b[0my\u001b[0m\u001b[0;34m,\u001b[0m \u001b[0mtx\u001b[0m\u001b[0;34m,\u001b[0m \u001b[0mw\u001b[0m\u001b[0;34m)\u001b[0m\u001b[0;34m:\u001b[0m\u001b[0;34m\u001b[0m\u001b[0m\n\u001b[1;32m      6\u001b[0m     \u001b[0;34m\"\"\"compute the loss by mse.\"\"\"\u001b[0m\u001b[0;34m\u001b[0m\u001b[0m\n\u001b[0;32m----> 7\u001b[0;31m     \u001b[0me\u001b[0m \u001b[0;34m=\u001b[0m \u001b[0my\u001b[0m \u001b[0;34m-\u001b[0m \u001b[0mtx\u001b[0m\u001b[0;34m.\u001b[0m\u001b[0mdot\u001b[0m\u001b[0;34m(\u001b[0m\u001b[0mw\u001b[0m\u001b[0;34m)\u001b[0m\u001b[0;34m\u001b[0m\u001b[0m\n\u001b[0m\u001b[1;32m      8\u001b[0m     \u001b[0mmse\u001b[0m \u001b[0;34m=\u001b[0m \u001b[0me\u001b[0m\u001b[0;34m.\u001b[0m\u001b[0mdot\u001b[0m\u001b[0;34m(\u001b[0m\u001b[0me\u001b[0m\u001b[0;34m)\u001b[0m \u001b[0;34m/\u001b[0m \u001b[0;34m(\u001b[0m\u001b[0;36m2\u001b[0m \u001b[0;34m*\u001b[0m \u001b[0mlen\u001b[0m\u001b[0;34m(\u001b[0m\u001b[0me\u001b[0m\u001b[0;34m)\u001b[0m\u001b[0;34m)\u001b[0m\u001b[0;34m\u001b[0m\u001b[0m\n\u001b[1;32m      9\u001b[0m     \u001b[0;32mreturn\u001b[0m \u001b[0mmse\u001b[0m\u001b[0;34m\u001b[0m\u001b[0m\n",
      "\u001b[0;31mKeyboardInterrupt\u001b[0m: "
     ]
    }
   ],
   "source": [
    "def get_best_models(degrees, seed, k_fold):\n",
    "    lambdas = None\n",
    "    tr_losses = []\n",
    "    tr_losses_std = []\n",
    "    te_losses = []\n",
    "    te_losses_std = []\n",
    "    for degree in degrees:\n",
    "        idx_min, rmse_all, lambdas = cross_validation_select(seed, degree, k_fold)\n",
    "        print(lambdas,idx_min,lambdas[0]);\n",
    "        lambda_best = lambdas[idx_min]\n",
    "        print(lambda_best)\n",
    "        te_loss = np.mean(rmse_all[1][idx_min])\n",
    "        te_losses.append(te_loss)\n",
    "        te_loss_std = np.std(rmse_all[1][idx_min])\n",
    "        te_losses_std.append(te_loss_std)\n",
    "        tr_loss = np.mean(rmse_all[0][idx_min])\n",
    "        tr_losses.append(tr_loss)\n",
    "        tr_loss_std = np.std(rmse_all[0][idx_min])\n",
    "        tr_losses_std.append(tr_loss_std)\n",
    "        print(\"Degree %d Lambda %.5f Test loss %.3f +- %.3f Train loss %.3f +- %.3f\" %\n",
    "              (degree, lambda_best, te_loss, te_loss_std, tr_loss, tr_loss_std))\n",
    "    \n",
    "    plt.figure()\n",
    "    plt.errorbar(degrees, te_losses, yerr = te_losses_std, label = 'Train')\n",
    "    plt.errorbar(degrees, tr_losses, yerr = tr_losses_std, label = 'Train')\n",
    "    plt.legend()\n",
    "    plt.xlabel('Degree')\n",
    "    plt.ylabel('Loss')\n",
    "    plt.show()\n",
    "    \n",
    "get_best_models(np.arange(10), 2, 10)"
   ]
  },
  {
   "cell_type": "markdown",
   "metadata": {},
   "source": [
    "## Bias-Variance Decomposition\n",
    "Visualize bias-variance trade-off by implementing the function `bias_variance_demo()` below:"
   ]
  },
  {
   "cell_type": "code",
   "execution_count": null,
   "metadata": {
    "collapsed": true
   },
   "outputs": [],
   "source": [
    "from least_squares import least_squares\n",
    "from split_data import split_data\n",
    "from plots import bias_variance_decomposition_visualization\n",
    "\n",
    "def bias_variance_demo(ridge_lambda = 0, use_cv = 0):\n",
    "    \"\"\"The entry.\"\"\"\n",
    "    # define parameters\n",
    "    seeds = range(100)\n",
    "    num_data = 5000\n",
    "    ratio_train = 0.005\n",
    "    degrees = range(1, 10)\n",
    "    \n",
    "    k_fold = 4\n",
    "    \n",
    "    # define list to store the variable\n",
    "    rmse_tr = np.zeros((len(seeds), len(degrees)))\n",
    "    rmse_te = np.zeros((len(seeds), len(degrees)))\n",
    "    \n",
    "    for index_seed, seed in tqdm(enumerate(seeds)):\n",
    "        np.random.seed(seed)\n",
    "        x = np.linspace(0.1, 2 * np.pi, num_data)\n",
    "        y = np.sin(x) + 0.3 * np.random.randn(num_data).T\n",
    "        \n",
    "        idx_tr, idx_te = split_data(x, y, ratio_train, seed = seed)\n",
    "        \n",
    "        for index_degree, degree in enumerate(degrees):\n",
    "            # building polynomial matrix for whole dataset\n",
    "            x_poly = build_poly(x, degree)\n",
    "        \n",
    "            # x data: train/test\n",
    "            x_poly_tr = x_poly[idx_tr, :]\n",
    "            x_poly_te = x_poly[idx_te, :]\n",
    "    \n",
    "            # y data: train/test\n",
    "            y_tr = y[idx_tr]\n",
    "            y_te = y[idx_te]\n",
    "\n",
    "            if use_cv:\n",
    "                # selecting lambda:\n",
    "                idx_min, rmse_all, lambdas = cross_validation_select(np.array(x)[idx_tr], y_tr, seed, degree, k_fold)\n",
    "                ridge_lambda = lambdas[idx_min]\n",
    "            \n",
    "            # training ridge regression\n",
    "            if ridge_lambda > 0:\n",
    "                weights = ridge_regression(y_tr, x_poly_tr, ridge_lambda)\n",
    "            else:\n",
    "                weights = least_squares(y_tr, x_poly_tr)\n",
    "\n",
    "            # computing losses\n",
    "            rmse_tr[index_seed, index_degree] = compute_mse(y_tr, x_poly_tr, weights)\n",
    "            rmse_te[index_seed, index_degree] = compute_mse(y_te, x_poly_te, weights)\n",
    "\n",
    "    plt.figure()\n",
    "    bias_variance_decomposition_visualization(degrees, rmse_tr, rmse_te)\n",
    "    plt.boxplot(rmse_tr, positions = degrees)\n",
    "    plt.boxplot(rmse_te, positions = degrees)\n",
    "    plt.show()"
   ]
  },
  {
   "cell_type": "code",
   "execution_count": null,
   "metadata": {},
   "outputs": [],
   "source": [
    "# least squares\n",
    "bias_variance_demo()"
   ]
  },
  {
   "cell_type": "code",
   "execution_count": null,
   "metadata": {},
   "outputs": [],
   "source": [
    "# ridge\n",
    "bias_variance_demo(ridge_lambda = 1)"
   ]
  },
  {
   "cell_type": "code",
   "execution_count": null,
   "metadata": {},
   "outputs": [],
   "source": [
    "# ridge with CV for lambda\n",
    "bias_variance_demo(use_cv = 1)"
   ]
  },
  {
   "cell_type": "code",
   "execution_count": null,
   "metadata": {
    "collapsed": true
   },
   "outputs": [],
   "source": []
  }
 ],
 "metadata": {
  "anaconda-cloud": {},
  "kernelspec": {
   "display_name": "Python [default]",
   "language": "python",
   "name": "python3"
  },
  "language_info": {
   "codemirror_mode": {
    "name": "ipython",
    "version": 3
   },
   "file_extension": ".py",
   "mimetype": "text/x-python",
   "name": "python",
   "nbconvert_exporter": "python",
   "pygments_lexer": "ipython3",
   "version": "3.5.4"
  }
 },
 "nbformat": 4,
 "nbformat_minor": 1
}
