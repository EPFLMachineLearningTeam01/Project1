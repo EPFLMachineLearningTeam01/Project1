{
 "cells": [
  {
   "cell_type": "code",
   "execution_count": 23,
   "metadata": {},
   "outputs": [
    {
     "name": "stdout",
     "output_type": "stream",
     "text": [
      "The autoreload extension is already loaded. To reload it, use:\n",
      "  %reload_ext autoreload\n"
     ]
    }
   ],
   "source": [
    "# Imports\n",
    "%load_ext autoreload\n",
    "%autoreload 2\n",
    "%matplotlib inline\n",
    "from matplotlib import pyplot as plt\n",
    "import csv\n",
    "import importlib\n",
    "from tqdm import tqdm\n",
    "from scripts import proj1_helpers, helpers, implementation, feature_processing, k_fold, model_linear, model_logistic, plots\n",
    "import numpy as np"
   ]
  },
  {
   "cell_type": "code",
   "execution_count": 3,
   "metadata": {
    "collapsed": true
   },
   "outputs": [],
   "source": [
    "train_path = '../data/train.csv'\n",
    "test_path  = '../data/test.csv'"
   ]
  },
  {
   "cell_type": "code",
   "execution_count": null,
   "metadata": {
    "collapsed": true
   },
   "outputs": [],
   "source": [
    "# loading data\n",
    "y, X, idx = proj1_helpers.load_csv_data(train_path)\n",
    "y_t, X_t, ids_t = proj1_helpers.load_csv_data(test_path)"
   ]
  },
  {
   "cell_type": "code",
   "execution_count": 32,
   "metadata": {
    "collapsed": true
   },
   "outputs": [],
   "source": [
    "model = implementation.ridge_regression\n",
    "loss = model_linear.compute_accuracy_loss#compute_loss_reg\n",
    "\n",
    "lambdas = [0]#np.logspace(-5,1,10)"
   ]
  },
  {
   "cell_type": "code",
   "execution_count": 31,
   "metadata": {
    "scrolled": false
   },
   "outputs": [
    {
     "data": {
      "text/plain": [
       "-999.0"
      ]
     },
     "execution_count": 31,
     "metadata": {},
     "output_type": "execute_result"
    }
   ],
   "source": [
    "np.min(X)"
   ]
  },
  {
   "cell_type": "markdown",
   "metadata": {},
   "source": [
    "No preprocessing"
   ]
  },
  {
   "cell_type": "code",
   "execution_count": 36,
   "metadata": {},
   "outputs": [
    {
     "data": {
      "text/plain": [
       "array([[-0.74495],\n",
       "       [-0.74478]])"
      ]
     },
     "execution_count": 36,
     "metadata": {},
     "output_type": "execute_result"
    }
   ],
   "source": [
    "X_p = feature_processing.add_polynomial(X, [], max_degrees = [])\n",
    "idx_min, loss_val_all, lambdas = k_fold.cross_validation_select(X_p, y, model, loss, seed = 1, k_fold = 5, lambdas = lambdas, do_plot = False, do_tqdm = False)\n",
    "np.mean(loss_val_all, axis=2)"
   ]
  },
  {
   "cell_type": "code",
   "execution_count": 38,
   "metadata": {},
   "outputs": [
    {
     "data": {
      "text/plain": [
       "array([[-0.744953],\n",
       "       [-0.744788]])"
      ]
     },
     "execution_count": 38,
     "metadata": {},
     "output_type": "execute_result"
    }
   ],
   "source": [
    "X_p = feature_processing.add_polynomial(X, [], max_degrees = [])\n",
    "X_p, _, _ = feature_processing.standardize(X_p)\n",
    "idx_min, loss_val_all, lambdas = k_fold.cross_validation_select(X_p, y, model, loss, seed = 1, k_fold = 5, lambdas = lambdas, do_plot = False, do_tqdm = False)\n",
    "np.mean(loss_val_all, axis=2)"
   ]
  },
  {
   "cell_type": "code",
   "execution_count": 39,
   "metadata": {},
   "outputs": [
    {
     "data": {
      "text/plain": [
       "array([[-0.746893],\n",
       "       [-0.746984]])"
      ]
     },
     "execution_count": 39,
     "metadata": {},
     "output_type": "execute_result"
    }
   ],
   "source": [
    "need_impute = [0, 5, 6, 12, 23, 24, 25, 26, 27, 28]\n",
    "X_p = feature_processing.indicator_missing(X, need_impute)\n",
    "X_p = feature_processing.impute_with_mean(X_p, need_impute)\n",
    "X_p = feature_processing.add_polynomial(X_p, [], max_degrees = [])\n",
    "X_p, _, _ = feature_processing.standardize(X_p)\n",
    "idx_min, loss_val_all, lambdas = k_fold.cross_validation_select(X_p, y, model, loss, seed = 1, k_fold = 5, lambdas = lambdas, do_plot = False, do_tqdm = False)\n",
    "np.mean(loss_val_all, axis=2)"
   ]
  },
  {
   "cell_type": "code",
   "execution_count": 43,
   "metadata": {},
   "outputs": [
    {
     "data": {
      "text/plain": [
       "array([[-0.746903],\n",
       "       [-0.747   ]])"
      ]
     },
     "execution_count": 43,
     "metadata": {},
     "output_type": "execute_result"
    }
   ],
   "source": [
    "need_impute = [0, 5, 6, 12, 23, 24, 25, 26, 27, 28]\n",
    "categorical = [23]\n",
    "X_p = feature_processing.indicator_missing(X, need_impute)\n",
    "X_p = feature_processing.impute_with_mean(X_p, need_impute)\n",
    "X_p = feature_processing.add_polynomial(X_p, [], max_degrees = [])\n",
    "X_p = feature_processing.binarize_categorical(X_p, categorical)\n",
    "X_p, _, _ = feature_processing.standardize(X_p)\n",
    "idx_min, loss_val_all, lambdas = k_fold.cross_validation_select(X_p, y, model, loss, seed = 1, k_fold = 5, lambdas = lambdas, do_plot = False, do_tqdm = False)\n",
    "np.mean(loss_val_all, axis=2)"
   ]
  },
  {
   "cell_type": "code",
   "execution_count": 42,
   "metadata": {},
   "outputs": [
    {
     "data": {
      "text/plain": [
       "array([[-0.78574 ],\n",
       "       [-0.785456]])"
      ]
     },
     "execution_count": 42,
     "metadata": {},
     "output_type": "execute_result"
    }
   ],
   "source": [
    "need_impute = [0, 5, 6, 12, 23, 24, 25, 26, 27, 28]\n",
    "categorical = [23]\n",
    "need_poly = [0,1,2,3,4,5,6,7,8,9,10,11,12,13,14,15,16,17,18,19,20,21,22,24,25,26,27,28,29]\n",
    "X_p = feature_processing.indicator_missing(X, need_impute)\n",
    "X_p = feature_processing.impute_with_mean(X_p, need_impute)\n",
    "X_p = feature_processing.add_polynomial(X_p, need_poly, max_degrees = 3)\n",
    "X_p = feature_processing.binarize_categorical(X_p, categorical)\n",
    "X_p, _, _ = feature_processing.standardize(X_p)\n",
    "idx_min, loss_val_all, lambdas = k_fold.cross_validation_select(X_p, y, model, loss, seed = 1, k_fold = 5, lambdas = lambdas, do_plot = False, do_tqdm = False)\n",
    "np.mean(loss_val_all, axis=2)"
   ]
  },
  {
   "cell_type": "code",
   "execution_count": 71,
   "metadata": {
    "collapsed": true
   },
   "outputs": [],
   "source": [
    "need_impute = [0, 5, 6, 12, 23, 24, 25, 26, 27, 28]\n",
    "categorical = [23]\n",
    "need_poly = [0,1,2,3,4,5,6,7,8,9,10,11,12,13,14,15,16,17,18,19,20,21,22,24,25,26,27,28,29]\n",
    "X_p = feature_processing.indicator_missing(X, need_impute)\n",
    "X_p = feature_processing.impute_with_mean(X_p, need_impute)\n",
    "X_p = feature_processing.add_polynomial(X_p, [])#need_poly, max_degrees = 2)\n",
    "X_p = feature_processing.binarize_categorical(X_p, categorical)\n",
    "X_p, _, _ = feature_processing.standardize(X_p)\n",
    "lambdas1 = np.logspace(-6, -5, 2)"
   ]
  },
  {
   "cell_type": "code",
   "execution_count": 72,
   "metadata": {},
   "outputs": [
    {
     "name": "stderr",
     "output_type": "stream",
     "text": [
      "\n",
      "\n",
      "  0%|          | 0/2 [00:00<?, ?it/s]\u001b[A\u001b[A\n",
      "\n",
      " 50%|█████     | 1/2 [00:05<00:05,  5.47s/it]\u001b[A\u001b[A\n",
      "\n",
      "100%|██████████| 2/2 [00:09<00:00,  4.98s/it]\u001b[A\u001b[A\n",
      "\n",
      "\u001b[A\u001b[A"
     ]
    },
    {
     "data": {
      "text/plain": [
       "array([[-0.746939, -0.746948],\n",
       "       [-0.747024, -0.74706 ]])"
      ]
     },
     "execution_count": 72,
     "metadata": {},
     "output_type": "execute_result"
    },
    {
     "data": {
      "image/png": "[encoded data removed]",
      "text/plain": [
       "<matplotlib.figure.Figure at 0x7fc64315f320>"
      ]
     },
     "metadata": {},
     "output_type": "display_data"
    }
   ],
   "source": [
    "idx_min, loss_val_all, lambdas = k_fold.cross_validation_select(X_p, y, model, loss, seed = 1, k_fold = 5, lambdas = lambdas1, do_plot = True, do_tqdm = True)\n",
    "np.mean(loss_val_all, axis=2)"
   ]
  },
  {
   "cell_type": "code",
   "execution_count": 49,
   "metadata": {
    "collapsed": true
   },
   "outputs": [],
   "source": [
    "tqdm.get_lock().locks = []"
   ]
  },
  {
   "cell_type": "code",
   "execution_count": 73,
   "metadata": {},
   "outputs": [
    {
     "data": {
      "text/plain": [
       "-0.74705999999999995"
      ]
     },
     "execution_count": 73,
     "metadata": {},
     "output_type": "execute_result"
    }
   ],
   "source": [
    "np.min(np.mean(loss_val_all, axis=2)[1])"
   ]
  },
  {
   "cell_type": "code",
   "execution_count": null,
   "metadata": {
    "collapsed": true
   },
   "outputs": [],
   "source": []
  }
 ],
 "metadata": {
  "anaconda-cloud": {},
  "kernelspec": {
   "display_name": "Python 3",
   "language": "python",
   "name": "python3"
  },
  "language_info": {
   "codemirror_mode": {
    "name": "ipython",
    "version": 3
   },
   "file_extension": ".py",
   "mimetype": "text/x-python",
   "name": "python",
   "nbconvert_exporter": "python",
   "pygments_lexer": "ipython3",
   "version": "3.6.2"
  }
 },
 "nbformat": 4,
 "nbformat_minor": 1
}
